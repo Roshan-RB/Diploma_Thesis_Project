{
  "nbformat": 4,
  "nbformat_minor": 0,
  "metadata": {
    "colab": {
      "name": "Proj_33_phase_03_RoshanRB_1.ipynb",
      "provenance": [],
      "collapsed_sections": []
    },
    "kernelspec": {
      "name": "python3",
      "display_name": "Python 3"
    },
    "language_info": {
      "name": "python"
    },
    "gpuClass": "standard"
  },
  "cells": [
    {
      "cell_type": "markdown",
      "source": [
        "# **Importing Libraries**"
      ],
      "metadata": {
        "id": "wYCjhPw16Fiy"
      }
    },
    {
      "cell_type": "code",
      "execution_count": null,
      "metadata": {
        "colab": {
          "base_uri": "https://localhost:8080/"
        },
        "id": "XNgxoR0f3rTh",
        "outputId": "c51f3f6e-eecd-40b2-84c8-3e657a893eb2"
      },
      "outputs": [
        {
          "output_type": "stream",
          "name": "stdout",
          "text": [
            "Looking in indexes: https://pypi.org/simple, https://us-python.pkg.dev/colab-wheels/public/simple/\n",
            "Requirement already satisfied: dask[dataframe] in /usr/local/lib/python3.7/dist-packages (2.12.0)\n",
            "Requirement already satisfied: pandas>=0.23.0 in /usr/local/lib/python3.7/dist-packages (from dask[dataframe]) (1.3.5)\n",
            "Collecting fsspec>=0.6.0\n",
            "  Downloading fsspec-2022.7.1-py3-none-any.whl (141 kB)\n",
            "\u001b[K     |████████████████████████████████| 141 kB 5.2 MB/s \n",
            "\u001b[?25hRequirement already satisfied: toolz>=0.7.3 in /usr/local/lib/python3.7/dist-packages (from dask[dataframe]) (0.12.0)\n",
            "Requirement already satisfied: numpy>=1.13.0 in /usr/local/lib/python3.7/dist-packages (from dask[dataframe]) (1.21.6)\n",
            "Collecting partd>=0.3.10\n",
            "  Downloading partd-1.2.0-py3-none-any.whl (19 kB)\n",
            "Requirement already satisfied: python-dateutil>=2.7.3 in /usr/local/lib/python3.7/dist-packages (from pandas>=0.23.0->dask[dataframe]) (2.8.2)\n",
            "Requirement already satisfied: pytz>=2017.3 in /usr/local/lib/python3.7/dist-packages (from pandas>=0.23.0->dask[dataframe]) (2022.1)\n",
            "Collecting locket\n",
            "  Downloading locket-1.0.0-py2.py3-none-any.whl (4.4 kB)\n",
            "Requirement already satisfied: six>=1.5 in /usr/local/lib/python3.7/dist-packages (from python-dateutil>=2.7.3->pandas>=0.23.0->dask[dataframe]) (1.15.0)\n",
            "Installing collected packages: locket, partd, fsspec\n",
            "Successfully installed fsspec-2022.7.1 locket-1.0.0 partd-1.2.0\n"
          ]
        }
      ],
      "source": [
        "pip install \"dask[dataframe]\" --upgrade"
      ]
    },
    {
      "cell_type": "code",
      "source": [
        "import os\n",
        "import pandas as pd\n",
        "import numpy as np\n",
        "import matplotlib.pyplot as plt\n",
        "import seaborn as sns\n",
        "import gc \n",
        "import warnings\n",
        "import dask.dataframe as dd\n",
        "from matplotlib.pyplot import figure\n",
        "sns.set()\n",
        "warnings.filterwarnings(\"ignore\")"
      ],
      "metadata": {
        "id": "jN331J8l5YdQ"
      },
      "execution_count": null,
      "outputs": []
    },
    {
      "cell_type": "markdown",
      "source": [
        "**To optimize memory consumption**"
      ],
      "metadata": {
        "id": "h2w-jBLV5jb1"
      }
    },
    {
      "cell_type": "code",
      "source": [
        "def adjust_datatype(df):\n",
        "    \"\"\"\n",
        "    This function adjust the datatypes of columns based upon their range\n",
        "    \n",
        "    Input take DataFrame\n",
        "    \n",
        "    example:\n",
        "    if a column's maximum and minimum values are in range of (-128 to 127) then datatype\n",
        "    to store that column is changed to int8\n",
        "    \n",
        "    Reference:\n",
        "    https://www.kaggle.com/jeru666/did-you-think-of-these-features\n",
        "    \n",
        "    \"\"\"\n",
        "    int_cols = list(df.select_dtypes(include=['int']).columns)\n",
        "    for col in int_cols:\n",
        "        if ((np.max(df[col]) <= 127) and (np.min(df[col] >= -128))):\n",
        "            df[col] = df[col].astype(np.int8)\n",
        "        elif ((np.max(df[col]) <= 32767) and (np.min(df[col] >= -32768))):\n",
        "            df[col] = df[col].astype(np.int16)\n",
        "        elif ((np.max(df[col]) <= 2147483647) and (np.min(df[col] >= -2147483648))):\n",
        "            df[col] = df[col].astype(np.int32)\n",
        "        else:\n",
        "            df[col] = df[col].astype(np.int64)          \n",
        "    float_cols = list(df.select_dtypes(include=['float']).columns)\n",
        "    for col in float_cols:\n",
        "        df[col] = df[col].astype(np.float32)\n",
        "        \n",
        "        \n",
        "        \n",
        "        \n",
        "        \n",
        "def restart_kernel():\n",
        "    \"\"\"\n",
        "    Used to get rid of unnessary variable\n",
        "    \n",
        "    https://stackoverflow.com/questions/37751120/restart-ipython-kernel-with-a-command-from-a-cell\n",
        "    \"\"\"\n",
        "    from IPython.core.display import HTML\n",
        "    HTML(\"<script>Jupyter.notebook.kernel.restart()</script>\")\n",
        "    import os\n",
        "    import pandas as pd\n",
        "    import numpy as np\n",
        "    import matplotlib.pyplot as plt\n",
        "    import seaborn as sns\n",
        "    import gc \n",
        "    import warnings\n",
        "    import dask.dataframe as dd\n",
        "    from matplotlib.pyplot import figure\n",
        "    sns.set()\n",
        "    warnings.filterwarnings(\"ignore\")"
      ],
      "metadata": {
        "id": "GkVZET1n5ecG"
      },
      "execution_count": null,
      "outputs": []
    },
    {
      "cell_type": "markdown",
      "source": [
        "# **Data preprocessing and featuring engg of members_dataset**"
      ],
      "metadata": {
        "id": "LNDPoA3_51oY"
      }
    },
    {
      "cell_type": "code",
      "source": [
        "member_data=pd.read_csv('/content/drive/MyDrive/KKbox_data/members_v3.csv',parse_dates=['registration_init_time'])\n",
        "member_data.head()"
      ],
      "metadata": {
        "id": "4lP-PLR65skO"
      },
      "execution_count": null,
      "outputs": []
    },
    {
      "cell_type": "markdown",
      "source": [
        "**After deriving conclusions from EDA, we have to fix some issues in the dataset**"
      ],
      "metadata": {
        "id": "rF6nI31k6jz1"
      }
    },
    {
      "cell_type": "code",
      "source": [
        "#Since, gender does not make any much difference, Lets drop it.\n",
        "member_data.drop('gender',axis=1,inplace=True)"
      ],
      "metadata": {
        "id": "IJzIUYnV6sA0"
      },
      "execution_count": null,
      "outputs": []
    },
    {
      "cell_type": "code",
      "source": [
        "#replace 0 instead of nan in registered_via\n",
        "member_data['registered_via']=member_data['registered_via'].apply(lambda x:np.nan if x < 0 else x)\n",
        "member_data['registered_via']=member_data.groupby('city')['registered_via'].transform(lambda x: x.fillna(x.value_counts().index[0]))\n",
        "registered_via_mode=member_data['registered_via'].value_counts().index[0]"
      ],
      "metadata": {
        "id": "4NHpTxEN60Jf"
      },
      "execution_count": null,
      "outputs": []
    },
    {
      "cell_type": "code",
      "source": [
        "# removing outliers\n",
        "member_data['bd']=member_data['bd'].apply(lambda x :np.nan if (x <=10 or x >80) else x)\n",
        "member_data['bd'].fillna(28.0, inplace = True)"
      ],
      "metadata": {
        "id": "rOn9B71r69be"
      },
      "execution_count": null,
      "outputs": []
    },
    {
      "cell_type": "code",
      "source": [
        "#From EDA, we know city 1 and 13 have more user churn, so \n",
        "member_data['city_feature']=member_data['city'].apply(lambda x:1 if (x==1 or x==13) else 0 )\n",
        "member_data.drop('city',axis=1,inplace=True)"
      ],
      "metadata": {
        "id": "KQ-Wk0bf7sNX"
      },
      "execution_count": null,
      "outputs": []
    },
    {
      "cell_type": "code",
      "source": [
        "#checks if user user registration method 7 and 9\n",
        "member_data['registration_method_f'] = member_data['registered_via'].apply(lambda x :1 if (x==7 or x==9) else 0)"
      ],
      "metadata": {
        "id": "3MWdEtjo74oO"
      },
      "execution_count": null,
      "outputs": []
    },
    {
      "cell_type": "code",
      "source": [
        "member_data.to_csv('/content/drive/MyDrive/KKbox_data/New_preprocessed_Data/members_data_updated')"
      ],
      "metadata": {
        "id": "ik1faQlIBXpK"
      },
      "execution_count": null,
      "outputs": []
    },
    {
      "cell_type": "code",
      "source": [
        "restart_kernel()"
      ],
      "metadata": {
        "id": "lGJHe4-CB3TY"
      },
      "execution_count": null,
      "outputs": []
    },
    {
      "cell_type": "markdown",
      "source": [
        "# **Data preprocessing and feature engg of transaction data**"
      ],
      "metadata": {
        "id": "XUIMTPMHCpBN"
      }
    },
    {
      "cell_type": "code",
      "source": [
        "transaction_data = pd.read_csv('/content/drive/MyDrive/KKbox_data/transactions_v2.csv',parse_dates=['transaction_date','membership_expire_date'])\n",
        "transaction_data.head()"
      ],
      "metadata": {
        "id": "4VGq-HErCl1E",
        "colab": {
          "base_uri": "https://localhost:8080/",
          "height": 270
        },
        "outputId": "381488cd-6032-4761-b68b-077edcab03d6"
      },
      "execution_count": null,
      "outputs": [
        {
          "output_type": "execute_result",
          "data": {
            "text/plain": [
              "                                           msno  payment_method_id  \\\n",
              "0  ++6eU4LsQ3UQ20ILS7d99XK8WbiVgbyYL4FUgzZR134=                 32   \n",
              "1  ++lvGPJOinuin/8esghpnqdljm6NXS8m8Zwchc7gOeA=                 41   \n",
              "2  +/GXNtXWQVfKrEDqYAzcSw2xSPYMKWNj22m+5XkVQZc=                 36   \n",
              "3  +/w1UrZwyka4C9oNH3+Q8fUf3fD8R3EwWrx57ODIsqk=                 36   \n",
              "4  +00PGzKTYqtnb65mPKPyeHXcZEwqiEzktpQksaaSC3c=                 41   \n",
              "\n",
              "   payment_plan_days  plan_list_price  actual_amount_paid  is_auto_renew  \\\n",
              "0                 90              298                 298              0   \n",
              "1                 30              149                 149              1   \n",
              "2                 30              180                 180              1   \n",
              "3                 30              180                 180              1   \n",
              "4                 30               99                  99              1   \n",
              "\n",
              "  transaction_date membership_expire_date  is_cancel  \n",
              "0       2017-01-31             2017-05-04          0  \n",
              "1       2015-08-09             2019-04-12          0  \n",
              "2       2017-03-03             2017-04-22          0  \n",
              "3       2017-03-29             2017-03-31          1  \n",
              "4       2017-03-23             2017-04-23          0  "
            ],
            "text/html": [
              "\n",
              "  <div id=\"df-bb57f78a-6128-4c2f-b7e7-e0966c4606f6\">\n",
              "    <div class=\"colab-df-container\">\n",
              "      <div>\n",
              "<style scoped>\n",
              "    .dataframe tbody tr th:only-of-type {\n",
              "        vertical-align: middle;\n",
              "    }\n",
              "\n",
              "    .dataframe tbody tr th {\n",
              "        vertical-align: top;\n",
              "    }\n",
              "\n",
              "    .dataframe thead th {\n",
              "        text-align: right;\n",
              "    }\n",
              "</style>\n",
              "<table border=\"1\" class=\"dataframe\">\n",
              "  <thead>\n",
              "    <tr style=\"text-align: right;\">\n",
              "      <th></th>\n",
              "      <th>msno</th>\n",
              "      <th>payment_method_id</th>\n",
              "      <th>payment_plan_days</th>\n",
              "      <th>plan_list_price</th>\n",
              "      <th>actual_amount_paid</th>\n",
              "      <th>is_auto_renew</th>\n",
              "      <th>transaction_date</th>\n",
              "      <th>membership_expire_date</th>\n",
              "      <th>is_cancel</th>\n",
              "    </tr>\n",
              "  </thead>\n",
              "  <tbody>\n",
              "    <tr>\n",
              "      <th>0</th>\n",
              "      <td>++6eU4LsQ3UQ20ILS7d99XK8WbiVgbyYL4FUgzZR134=</td>\n",
              "      <td>32</td>\n",
              "      <td>90</td>\n",
              "      <td>298</td>\n",
              "      <td>298</td>\n",
              "      <td>0</td>\n",
              "      <td>2017-01-31</td>\n",
              "      <td>2017-05-04</td>\n",
              "      <td>0</td>\n",
              "    </tr>\n",
              "    <tr>\n",
              "      <th>1</th>\n",
              "      <td>++lvGPJOinuin/8esghpnqdljm6NXS8m8Zwchc7gOeA=</td>\n",
              "      <td>41</td>\n",
              "      <td>30</td>\n",
              "      <td>149</td>\n",
              "      <td>149</td>\n",
              "      <td>1</td>\n",
              "      <td>2015-08-09</td>\n",
              "      <td>2019-04-12</td>\n",
              "      <td>0</td>\n",
              "    </tr>\n",
              "    <tr>\n",
              "      <th>2</th>\n",
              "      <td>+/GXNtXWQVfKrEDqYAzcSw2xSPYMKWNj22m+5XkVQZc=</td>\n",
              "      <td>36</td>\n",
              "      <td>30</td>\n",
              "      <td>180</td>\n",
              "      <td>180</td>\n",
              "      <td>1</td>\n",
              "      <td>2017-03-03</td>\n",
              "      <td>2017-04-22</td>\n",
              "      <td>0</td>\n",
              "    </tr>\n",
              "    <tr>\n",
              "      <th>3</th>\n",
              "      <td>+/w1UrZwyka4C9oNH3+Q8fUf3fD8R3EwWrx57ODIsqk=</td>\n",
              "      <td>36</td>\n",
              "      <td>30</td>\n",
              "      <td>180</td>\n",
              "      <td>180</td>\n",
              "      <td>1</td>\n",
              "      <td>2017-03-29</td>\n",
              "      <td>2017-03-31</td>\n",
              "      <td>1</td>\n",
              "    </tr>\n",
              "    <tr>\n",
              "      <th>4</th>\n",
              "      <td>+00PGzKTYqtnb65mPKPyeHXcZEwqiEzktpQksaaSC3c=</td>\n",
              "      <td>41</td>\n",
              "      <td>30</td>\n",
              "      <td>99</td>\n",
              "      <td>99</td>\n",
              "      <td>1</td>\n",
              "      <td>2017-03-23</td>\n",
              "      <td>2017-04-23</td>\n",
              "      <td>0</td>\n",
              "    </tr>\n",
              "  </tbody>\n",
              "</table>\n",
              "</div>\n",
              "      <button class=\"colab-df-convert\" onclick=\"convertToInteractive('df-bb57f78a-6128-4c2f-b7e7-e0966c4606f6')\"\n",
              "              title=\"Convert this dataframe to an interactive table.\"\n",
              "              style=\"display:none;\">\n",
              "        \n",
              "  <svg xmlns=\"http://www.w3.org/2000/svg\" height=\"24px\"viewBox=\"0 0 24 24\"\n",
              "       width=\"24px\">\n",
              "    <path d=\"M0 0h24v24H0V0z\" fill=\"none\"/>\n",
              "    <path d=\"M18.56 5.44l.94 2.06.94-2.06 2.06-.94-2.06-.94-.94-2.06-.94 2.06-2.06.94zm-11 1L8.5 8.5l.94-2.06 2.06-.94-2.06-.94L8.5 2.5l-.94 2.06-2.06.94zm10 10l.94 2.06.94-2.06 2.06-.94-2.06-.94-.94-2.06-.94 2.06-2.06.94z\"/><path d=\"M17.41 7.96l-1.37-1.37c-.4-.4-.92-.59-1.43-.59-.52 0-1.04.2-1.43.59L10.3 9.45l-7.72 7.72c-.78.78-.78 2.05 0 2.83L4 21.41c.39.39.9.59 1.41.59.51 0 1.02-.2 1.41-.59l7.78-7.78 2.81-2.81c.8-.78.8-2.07 0-2.86zM5.41 20L4 18.59l7.72-7.72 1.47 1.35L5.41 20z\"/>\n",
              "  </svg>\n",
              "      </button>\n",
              "      \n",
              "  <style>\n",
              "    .colab-df-container {\n",
              "      display:flex;\n",
              "      flex-wrap:wrap;\n",
              "      gap: 12px;\n",
              "    }\n",
              "\n",
              "    .colab-df-convert {\n",
              "      background-color: #E8F0FE;\n",
              "      border: none;\n",
              "      border-radius: 50%;\n",
              "      cursor: pointer;\n",
              "      display: none;\n",
              "      fill: #1967D2;\n",
              "      height: 32px;\n",
              "      padding: 0 0 0 0;\n",
              "      width: 32px;\n",
              "    }\n",
              "\n",
              "    .colab-df-convert:hover {\n",
              "      background-color: #E2EBFA;\n",
              "      box-shadow: 0px 1px 2px rgba(60, 64, 67, 0.3), 0px 1px 3px 1px rgba(60, 64, 67, 0.15);\n",
              "      fill: #174EA6;\n",
              "    }\n",
              "\n",
              "    [theme=dark] .colab-df-convert {\n",
              "      background-color: #3B4455;\n",
              "      fill: #D2E3FC;\n",
              "    }\n",
              "\n",
              "    [theme=dark] .colab-df-convert:hover {\n",
              "      background-color: #434B5C;\n",
              "      box-shadow: 0px 1px 3px 1px rgba(0, 0, 0, 0.15);\n",
              "      filter: drop-shadow(0px 1px 2px rgba(0, 0, 0, 0.3));\n",
              "      fill: #FFFFFF;\n",
              "    }\n",
              "  </style>\n",
              "\n",
              "      <script>\n",
              "        const buttonEl =\n",
              "          document.querySelector('#df-bb57f78a-6128-4c2f-b7e7-e0966c4606f6 button.colab-df-convert');\n",
              "        buttonEl.style.display =\n",
              "          google.colab.kernel.accessAllowed ? 'block' : 'none';\n",
              "\n",
              "        async function convertToInteractive(key) {\n",
              "          const element = document.querySelector('#df-bb57f78a-6128-4c2f-b7e7-e0966c4606f6');\n",
              "          const dataTable =\n",
              "            await google.colab.kernel.invokeFunction('convertToInteractive',\n",
              "                                                     [key], {});\n",
              "          if (!dataTable) return;\n",
              "\n",
              "          const docLinkHtml = 'Like what you see? Visit the ' +\n",
              "            '<a target=\"_blank\" href=https://colab.research.google.com/notebooks/data_table.ipynb>data table notebook</a>'\n",
              "            + ' to learn more about interactive tables.';\n",
              "          element.innerHTML = '';\n",
              "          dataTable['output_type'] = 'display_data';\n",
              "          await google.colab.output.renderOutput(dataTable, element);\n",
              "          const docLink = document.createElement('div');\n",
              "          docLink.innerHTML = docLinkHtml;\n",
              "          element.appendChild(docLink);\n",
              "        }\n",
              "      </script>\n",
              "    </div>\n",
              "  </div>\n",
              "  "
            ]
          },
          "metadata": {},
          "execution_count": 14
        }
      ]
    },
    {
      "cell_type": "code",
      "source": [
        "adjust_datatype(transaction_data)"
      ],
      "metadata": {
        "id": "puxB3qIiD2E-"
      },
      "execution_count": null,
      "outputs": []
    },
    {
      "cell_type": "code",
      "source": [
        "def preprocessing(data):\n",
        "    #imputing 0 in place of nan value in payment_method_id\n",
        "    data['payment_method_id'] = data['payment_method_id'].fillna(0)\n",
        "\n",
        "    # removing outliers\n",
        "    data['payment_plan_days'] = data['payment_plan_days'].apply(lambda x: x if (x <= 30.0) else np.nan)\n",
        "    # imputing 30 in place of nan in payment_plan_days\n",
        "    data['payment_plan_days'] = data['payment_plan_days'].fillna(30.0)\n",
        "\n",
        "    # removing outliers\n",
        "    data['plan_list_price'] = data['plan_list_price'].apply(lambda x: x if (x <= 180.0) else np.nan)\n",
        "    # imputing 149 in place of nan in plan_list_price\n",
        "    data['plan_list_price'] = data['plan_list_price'].fillna(149.0)\n",
        "\n",
        "    # removing outliers\n",
        "    data['actual_amount_paid'] = data['actual_amount_paid'].apply(lambda x: x if (x <= 180.0) else np.nan)\n",
        "    # imputing 149 in place of nan in actual_amount_paid\n",
        "    data['actual_amount_paid'] = data['actual_amount_paid'].fillna(149.0)\n",
        "\n",
        "    # imputing 2 in place of nan values in is_auto_renew\n",
        "    data['is_auto_renew'] = data['is_auto_renew'].fillna(2)\n",
        "\n",
        "    # filling median date in place of nan in the df\n",
        "    data['transaction_date'] = data['transaction_date'].fillna(20170316.0)\n",
        "    # converting float date to datetime\n",
        "    data['transaction_date'] = pd.to_datetime(data['transaction_date'], format='%Y%m%d')\n",
        "\n",
        "    # filling median date in place of nan in the df\n",
        "    data['membership_expire_date'] = data['membership_expire_date'].fillna(20170419.0)\n",
        "    # converting float date to datetime\n",
        "    data['membership_expire_date'] = pd.to_datetime(data['membership_expire_date'], format='%Y%m%d')\n",
        "\n",
        "    # imputing 2 in place of nan values in is_cancel\n",
        "    data['is_cancel'] = data['is_cancel'].fillna(2)\n",
        "\n",
        "    return data"
      ],
      "metadata": {
        "id": "cqaFfPvZD9xL"
      },
      "execution_count": null,
      "outputs": []
    },
    {
      "cell_type": "code",
      "source": [
        "preprocessing(transaction_data)"
      ],
      "metadata": {
        "colab": {
          "base_uri": "https://localhost:8080/",
          "height": 488
        },
        "id": "kG1DNLf1FVR7",
        "outputId": "53834e8f-00c3-468f-b6d2-0457cfea6ebe"
      },
      "execution_count": null,
      "outputs": [
        {
          "output_type": "execute_result",
          "data": {
            "text/plain": [
              "                                                 msno  payment_method_id  \\\n",
              "0        ++6eU4LsQ3UQ20ILS7d99XK8WbiVgbyYL4FUgzZR134=                 32   \n",
              "1        ++lvGPJOinuin/8esghpnqdljm6NXS8m8Zwchc7gOeA=                 41   \n",
              "2        +/GXNtXWQVfKrEDqYAzcSw2xSPYMKWNj22m+5XkVQZc=                 36   \n",
              "3        +/w1UrZwyka4C9oNH3+Q8fUf3fD8R3EwWrx57ODIsqk=                 36   \n",
              "4        +00PGzKTYqtnb65mPKPyeHXcZEwqiEzktpQksaaSC3c=                 41   \n",
              "...                                               ...                ...   \n",
              "1431004  zwF50wwaJI2TBKWhB42HRBJ6EQK0jgSo1Xmwb9Jq3SU=                 32   \n",
              "1431005  zx/h5MzQQmsSat04wSfGpHp6N8aWLLwM1+7OV7ujmPY=                 41   \n",
              "1431006  zxvgjIKjy18Fm+cIWUfYKr68z09+ILBxuMW0DnbeUZ8=                 41   \n",
              "1431007  zzNhkExbpzmpjp9tXefiCUBtgNLgS+vZE7fFfTRDJVc=                 38   \n",
              "1431008  zzZmdSzz7J9oyC/5nHr/HBvWg6k+p2W15b6lt/VKUQE=                 32   \n",
              "\n",
              "         payment_plan_days  plan_list_price  actual_amount_paid  \\\n",
              "0                     30.0            149.0               149.0   \n",
              "1                     30.0            149.0               149.0   \n",
              "2                     30.0            180.0               180.0   \n",
              "3                     30.0            180.0               180.0   \n",
              "4                     30.0             99.0                99.0   \n",
              "...                    ...              ...                 ...   \n",
              "1431004               30.0            149.0               149.0   \n",
              "1431005               30.0            149.0               149.0   \n",
              "1431006               30.0             99.0                99.0   \n",
              "1431007               30.0            149.0               149.0   \n",
              "1431008               30.0            149.0               149.0   \n",
              "\n",
              "         is_auto_renew transaction_date membership_expire_date  is_cancel  \n",
              "0                    0       2017-01-31             2017-05-04          0  \n",
              "1                    1       2015-08-09             2019-04-12          0  \n",
              "2                    1       2017-03-03             2017-04-22          0  \n",
              "3                    1       2017-03-29             2017-03-31          1  \n",
              "4                    1       2017-03-23             2017-04-23          0  \n",
              "...                ...              ...                    ...        ...  \n",
              "1431004              0       2017-02-15             2017-08-17          0  \n",
              "1431005              1       2017-03-06             2017-04-06          0  \n",
              "1431006              1       2017-03-08             2017-04-08          0  \n",
              "1431007              0       2017-03-18             2017-04-17          0  \n",
              "1431008              0       2016-12-12             2017-06-13          0  \n",
              "\n",
              "[1431009 rows x 9 columns]"
            ],
            "text/html": [
              "\n",
              "  <div id=\"df-6c941d1e-d819-41fd-9dcf-a13dcd2c14a7\">\n",
              "    <div class=\"colab-df-container\">\n",
              "      <div>\n",
              "<style scoped>\n",
              "    .dataframe tbody tr th:only-of-type {\n",
              "        vertical-align: middle;\n",
              "    }\n",
              "\n",
              "    .dataframe tbody tr th {\n",
              "        vertical-align: top;\n",
              "    }\n",
              "\n",
              "    .dataframe thead th {\n",
              "        text-align: right;\n",
              "    }\n",
              "</style>\n",
              "<table border=\"1\" class=\"dataframe\">\n",
              "  <thead>\n",
              "    <tr style=\"text-align: right;\">\n",
              "      <th></th>\n",
              "      <th>msno</th>\n",
              "      <th>payment_method_id</th>\n",
              "      <th>payment_plan_days</th>\n",
              "      <th>plan_list_price</th>\n",
              "      <th>actual_amount_paid</th>\n",
              "      <th>is_auto_renew</th>\n",
              "      <th>transaction_date</th>\n",
              "      <th>membership_expire_date</th>\n",
              "      <th>is_cancel</th>\n",
              "    </tr>\n",
              "  </thead>\n",
              "  <tbody>\n",
              "    <tr>\n",
              "      <th>0</th>\n",
              "      <td>++6eU4LsQ3UQ20ILS7d99XK8WbiVgbyYL4FUgzZR134=</td>\n",
              "      <td>32</td>\n",
              "      <td>30.0</td>\n",
              "      <td>149.0</td>\n",
              "      <td>149.0</td>\n",
              "      <td>0</td>\n",
              "      <td>2017-01-31</td>\n",
              "      <td>2017-05-04</td>\n",
              "      <td>0</td>\n",
              "    </tr>\n",
              "    <tr>\n",
              "      <th>1</th>\n",
              "      <td>++lvGPJOinuin/8esghpnqdljm6NXS8m8Zwchc7gOeA=</td>\n",
              "      <td>41</td>\n",
              "      <td>30.0</td>\n",
              "      <td>149.0</td>\n",
              "      <td>149.0</td>\n",
              "      <td>1</td>\n",
              "      <td>2015-08-09</td>\n",
              "      <td>2019-04-12</td>\n",
              "      <td>0</td>\n",
              "    </tr>\n",
              "    <tr>\n",
              "      <th>2</th>\n",
              "      <td>+/GXNtXWQVfKrEDqYAzcSw2xSPYMKWNj22m+5XkVQZc=</td>\n",
              "      <td>36</td>\n",
              "      <td>30.0</td>\n",
              "      <td>180.0</td>\n",
              "      <td>180.0</td>\n",
              "      <td>1</td>\n",
              "      <td>2017-03-03</td>\n",
              "      <td>2017-04-22</td>\n",
              "      <td>0</td>\n",
              "    </tr>\n",
              "    <tr>\n",
              "      <th>3</th>\n",
              "      <td>+/w1UrZwyka4C9oNH3+Q8fUf3fD8R3EwWrx57ODIsqk=</td>\n",
              "      <td>36</td>\n",
              "      <td>30.0</td>\n",
              "      <td>180.0</td>\n",
              "      <td>180.0</td>\n",
              "      <td>1</td>\n",
              "      <td>2017-03-29</td>\n",
              "      <td>2017-03-31</td>\n",
              "      <td>1</td>\n",
              "    </tr>\n",
              "    <tr>\n",
              "      <th>4</th>\n",
              "      <td>+00PGzKTYqtnb65mPKPyeHXcZEwqiEzktpQksaaSC3c=</td>\n",
              "      <td>41</td>\n",
              "      <td>30.0</td>\n",
              "      <td>99.0</td>\n",
              "      <td>99.0</td>\n",
              "      <td>1</td>\n",
              "      <td>2017-03-23</td>\n",
              "      <td>2017-04-23</td>\n",
              "      <td>0</td>\n",
              "    </tr>\n",
              "    <tr>\n",
              "      <th>...</th>\n",
              "      <td>...</td>\n",
              "      <td>...</td>\n",
              "      <td>...</td>\n",
              "      <td>...</td>\n",
              "      <td>...</td>\n",
              "      <td>...</td>\n",
              "      <td>...</td>\n",
              "      <td>...</td>\n",
              "      <td>...</td>\n",
              "    </tr>\n",
              "    <tr>\n",
              "      <th>1431004</th>\n",
              "      <td>zwF50wwaJI2TBKWhB42HRBJ6EQK0jgSo1Xmwb9Jq3SU=</td>\n",
              "      <td>32</td>\n",
              "      <td>30.0</td>\n",
              "      <td>149.0</td>\n",
              "      <td>149.0</td>\n",
              "      <td>0</td>\n",
              "      <td>2017-02-15</td>\n",
              "      <td>2017-08-17</td>\n",
              "      <td>0</td>\n",
              "    </tr>\n",
              "    <tr>\n",
              "      <th>1431005</th>\n",
              "      <td>zx/h5MzQQmsSat04wSfGpHp6N8aWLLwM1+7OV7ujmPY=</td>\n",
              "      <td>41</td>\n",
              "      <td>30.0</td>\n",
              "      <td>149.0</td>\n",
              "      <td>149.0</td>\n",
              "      <td>1</td>\n",
              "      <td>2017-03-06</td>\n",
              "      <td>2017-04-06</td>\n",
              "      <td>0</td>\n",
              "    </tr>\n",
              "    <tr>\n",
              "      <th>1431006</th>\n",
              "      <td>zxvgjIKjy18Fm+cIWUfYKr68z09+ILBxuMW0DnbeUZ8=</td>\n",
              "      <td>41</td>\n",
              "      <td>30.0</td>\n",
              "      <td>99.0</td>\n",
              "      <td>99.0</td>\n",
              "      <td>1</td>\n",
              "      <td>2017-03-08</td>\n",
              "      <td>2017-04-08</td>\n",
              "      <td>0</td>\n",
              "    </tr>\n",
              "    <tr>\n",
              "      <th>1431007</th>\n",
              "      <td>zzNhkExbpzmpjp9tXefiCUBtgNLgS+vZE7fFfTRDJVc=</td>\n",
              "      <td>38</td>\n",
              "      <td>30.0</td>\n",
              "      <td>149.0</td>\n",
              "      <td>149.0</td>\n",
              "      <td>0</td>\n",
              "      <td>2017-03-18</td>\n",
              "      <td>2017-04-17</td>\n",
              "      <td>0</td>\n",
              "    </tr>\n",
              "    <tr>\n",
              "      <th>1431008</th>\n",
              "      <td>zzZmdSzz7J9oyC/5nHr/HBvWg6k+p2W15b6lt/VKUQE=</td>\n",
              "      <td>32</td>\n",
              "      <td>30.0</td>\n",
              "      <td>149.0</td>\n",
              "      <td>149.0</td>\n",
              "      <td>0</td>\n",
              "      <td>2016-12-12</td>\n",
              "      <td>2017-06-13</td>\n",
              "      <td>0</td>\n",
              "    </tr>\n",
              "  </tbody>\n",
              "</table>\n",
              "<p>1431009 rows × 9 columns</p>\n",
              "</div>\n",
              "      <button class=\"colab-df-convert\" onclick=\"convertToInteractive('df-6c941d1e-d819-41fd-9dcf-a13dcd2c14a7')\"\n",
              "              title=\"Convert this dataframe to an interactive table.\"\n",
              "              style=\"display:none;\">\n",
              "        \n",
              "  <svg xmlns=\"http://www.w3.org/2000/svg\" height=\"24px\"viewBox=\"0 0 24 24\"\n",
              "       width=\"24px\">\n",
              "    <path d=\"M0 0h24v24H0V0z\" fill=\"none\"/>\n",
              "    <path d=\"M18.56 5.44l.94 2.06.94-2.06 2.06-.94-2.06-.94-.94-2.06-.94 2.06-2.06.94zm-11 1L8.5 8.5l.94-2.06 2.06-.94-2.06-.94L8.5 2.5l-.94 2.06-2.06.94zm10 10l.94 2.06.94-2.06 2.06-.94-2.06-.94-.94-2.06-.94 2.06-2.06.94z\"/><path d=\"M17.41 7.96l-1.37-1.37c-.4-.4-.92-.59-1.43-.59-.52 0-1.04.2-1.43.59L10.3 9.45l-7.72 7.72c-.78.78-.78 2.05 0 2.83L4 21.41c.39.39.9.59 1.41.59.51 0 1.02-.2 1.41-.59l7.78-7.78 2.81-2.81c.8-.78.8-2.07 0-2.86zM5.41 20L4 18.59l7.72-7.72 1.47 1.35L5.41 20z\"/>\n",
              "  </svg>\n",
              "      </button>\n",
              "      \n",
              "  <style>\n",
              "    .colab-df-container {\n",
              "      display:flex;\n",
              "      flex-wrap:wrap;\n",
              "      gap: 12px;\n",
              "    }\n",
              "\n",
              "    .colab-df-convert {\n",
              "      background-color: #E8F0FE;\n",
              "      border: none;\n",
              "      border-radius: 50%;\n",
              "      cursor: pointer;\n",
              "      display: none;\n",
              "      fill: #1967D2;\n",
              "      height: 32px;\n",
              "      padding: 0 0 0 0;\n",
              "      width: 32px;\n",
              "    }\n",
              "\n",
              "    .colab-df-convert:hover {\n",
              "      background-color: #E2EBFA;\n",
              "      box-shadow: 0px 1px 2px rgba(60, 64, 67, 0.3), 0px 1px 3px 1px rgba(60, 64, 67, 0.15);\n",
              "      fill: #174EA6;\n",
              "    }\n",
              "\n",
              "    [theme=dark] .colab-df-convert {\n",
              "      background-color: #3B4455;\n",
              "      fill: #D2E3FC;\n",
              "    }\n",
              "\n",
              "    [theme=dark] .colab-df-convert:hover {\n",
              "      background-color: #434B5C;\n",
              "      box-shadow: 0px 1px 3px 1px rgba(0, 0, 0, 0.15);\n",
              "      filter: drop-shadow(0px 1px 2px rgba(0, 0, 0, 0.3));\n",
              "      fill: #FFFFFF;\n",
              "    }\n",
              "  </style>\n",
              "\n",
              "      <script>\n",
              "        const buttonEl =\n",
              "          document.querySelector('#df-6c941d1e-d819-41fd-9dcf-a13dcd2c14a7 button.colab-df-convert');\n",
              "        buttonEl.style.display =\n",
              "          google.colab.kernel.accessAllowed ? 'block' : 'none';\n",
              "\n",
              "        async function convertToInteractive(key) {\n",
              "          const element = document.querySelector('#df-6c941d1e-d819-41fd-9dcf-a13dcd2c14a7');\n",
              "          const dataTable =\n",
              "            await google.colab.kernel.invokeFunction('convertToInteractive',\n",
              "                                                     [key], {});\n",
              "          if (!dataTable) return;\n",
              "\n",
              "          const docLinkHtml = 'Like what you see? Visit the ' +\n",
              "            '<a target=\"_blank\" href=https://colab.research.google.com/notebooks/data_table.ipynb>data table notebook</a>'\n",
              "            + ' to learn more about interactive tables.';\n",
              "          element.innerHTML = '';\n",
              "          dataTable['output_type'] = 'display_data';\n",
              "          await google.colab.output.renderOutput(dataTable, element);\n",
              "          const docLink = document.createElement('div');\n",
              "          docLink.innerHTML = docLinkHtml;\n",
              "          element.appendChild(docLink);\n",
              "        }\n",
              "      </script>\n",
              "    </div>\n",
              "  </div>\n",
              "  "
            ]
          },
          "metadata": {},
          "execution_count": 17
        }
      ]
    },
    {
      "cell_type": "markdown",
      "source": [
        "**Adding some more features to the transaction dataset**"
      ],
      "metadata": {
        "id": "dd-bM1TxFz_O"
      }
    },
    {
      "cell_type": "code",
      "source": [
        "#Creating duration feature\n",
        "temp=transaction_data['membership_expire_date']-transaction_data['transaction_date']\n",
        "transaction_data['duration']=temp.apply(lambda x :x.days)"
      ],
      "metadata": {
        "id": "d8i5TXbaFxq2"
      },
      "execution_count": null,
      "outputs": []
    },
    {
      "cell_type": "code",
      "source": [
        "temp_df = transaction_data.groupby('msno').agg( is_auto_renew_change_feature = ('is_auto_renew', 'max'),\n",
        "                                               is_cancel_change_feature = ('is_cancel','max'),\n",
        "                                               average_plan = ('payment_plan_days','mean'),\n",
        "                                               average_amount_paid = ('actual_amount_paid','mean'),\n",
        "                                               average_amount_charged = ('plan_list_price','mean'),\n",
        "                                               change_in_plan = ('payment_plan_days','nunique'))\n",
        "\n"
      ],
      "metadata": {
        "id": "Fj8Ru-PhGR3h"
      },
      "execution_count": null,
      "outputs": []
    },
    {
      "cell_type": "code",
      "source": [
        "transaction_data = pd.merge(transaction_data, temp_df, on='msno', how='left')"
      ],
      "metadata": {
        "id": "g2aB85VRP9ls"
      },
      "execution_count": null,
      "outputs": []
    },
    {
      "cell_type": "code",
      "source": [
        "transaction_data = transaction_data.drop_duplicates('msno', keep='first', inplace=False)"
      ],
      "metadata": {
        "id": "sPg7koAmQQ_w"
      },
      "execution_count": null,
      "outputs": []
    },
    {
      "cell_type": "code",
      "source": [
        "adjust_datatype(transaction_data)"
      ],
      "metadata": {
        "id": "J9MtRYusQ0LM"
      },
      "execution_count": null,
      "outputs": []
    },
    {
      "cell_type": "code",
      "source": [
        "transaction_data.to_csv('/content/drive/MyDrive/KKbox_data/New_preprocessed_Data/transaction_data_updated')"
      ],
      "metadata": {
        "id": "eZIoOBOcQ4qa"
      },
      "execution_count": null,
      "outputs": []
    },
    {
      "cell_type": "markdown",
      "source": [
        "# **Data preprocessing and feature engg of user_logs data**"
      ],
      "metadata": {
        "id": "6UR1xCSoRjVj"
      }
    },
    {
      "cell_type": "code",
      "source": [
        "user_logs=pd.read_csv(\"/content/drive/MyDrive/KKbox_data/user_logs_v2.csv\",parse_dates=['date'])\n",
        "user_logs.head()"
      ],
      "metadata": {
        "colab": {
          "base_uri": "https://localhost:8080/",
          "height": 206
        },
        "id": "1FY2R88CRtPo",
        "outputId": "7201c266-c093-495d-9dcf-7a19cccc5399"
      },
      "execution_count": null,
      "outputs": [
        {
          "output_type": "execute_result",
          "data": {
            "text/plain": [
              "                                           msno       date  num_25  num_50  \\\n",
              "0  u9E91QDTvHLq6NXjEaWv8u4QIqhrHk72kE+w31Gnhdg= 2017-03-31       8       4   \n",
              "1  nTeWW/eOZA/UHKdD5L7DEqKKFTjaAj3ALLPoAWsU8n0= 2017-03-30       2       2   \n",
              "2  2UqkWXwZbIjs03dHLU9KHJNNEvEkZVzm69f3jCS+uLI= 2017-03-31      52       3   \n",
              "3  ycwLc+m2O0a85jSLALtr941AaZt9ai8Qwlg9n0Nql5U= 2017-03-31     176       4   \n",
              "4  EGcbTofOSOkMmQyN1NMLxHEXJ1yV3t/JdhGwQ9wXjnI= 2017-03-31       2       1   \n",
              "\n",
              "   num_75  num_985  num_100  num_unq  total_secs  \n",
              "0       0        1       21       18    6309.273  \n",
              "1       1        0        9       11    2390.699  \n",
              "2       5        3       84      110   23203.337  \n",
              "3       2        2       19      191    7100.454  \n",
              "4       0        1      112       93   28401.558  "
            ],
            "text/html": [
              "\n",
              "  <div id=\"df-7c5c4f23-d7b8-400a-a4fc-1d30c123ac89\">\n",
              "    <div class=\"colab-df-container\">\n",
              "      <div>\n",
              "<style scoped>\n",
              "    .dataframe tbody tr th:only-of-type {\n",
              "        vertical-align: middle;\n",
              "    }\n",
              "\n",
              "    .dataframe tbody tr th {\n",
              "        vertical-align: top;\n",
              "    }\n",
              "\n",
              "    .dataframe thead th {\n",
              "        text-align: right;\n",
              "    }\n",
              "</style>\n",
              "<table border=\"1\" class=\"dataframe\">\n",
              "  <thead>\n",
              "    <tr style=\"text-align: right;\">\n",
              "      <th></th>\n",
              "      <th>msno</th>\n",
              "      <th>date</th>\n",
              "      <th>num_25</th>\n",
              "      <th>num_50</th>\n",
              "      <th>num_75</th>\n",
              "      <th>num_985</th>\n",
              "      <th>num_100</th>\n",
              "      <th>num_unq</th>\n",
              "      <th>total_secs</th>\n",
              "    </tr>\n",
              "  </thead>\n",
              "  <tbody>\n",
              "    <tr>\n",
              "      <th>0</th>\n",
              "      <td>u9E91QDTvHLq6NXjEaWv8u4QIqhrHk72kE+w31Gnhdg=</td>\n",
              "      <td>2017-03-31</td>\n",
              "      <td>8</td>\n",
              "      <td>4</td>\n",
              "      <td>0</td>\n",
              "      <td>1</td>\n",
              "      <td>21</td>\n",
              "      <td>18</td>\n",
              "      <td>6309.273</td>\n",
              "    </tr>\n",
              "    <tr>\n",
              "      <th>1</th>\n",
              "      <td>nTeWW/eOZA/UHKdD5L7DEqKKFTjaAj3ALLPoAWsU8n0=</td>\n",
              "      <td>2017-03-30</td>\n",
              "      <td>2</td>\n",
              "      <td>2</td>\n",
              "      <td>1</td>\n",
              "      <td>0</td>\n",
              "      <td>9</td>\n",
              "      <td>11</td>\n",
              "      <td>2390.699</td>\n",
              "    </tr>\n",
              "    <tr>\n",
              "      <th>2</th>\n",
              "      <td>2UqkWXwZbIjs03dHLU9KHJNNEvEkZVzm69f3jCS+uLI=</td>\n",
              "      <td>2017-03-31</td>\n",
              "      <td>52</td>\n",
              "      <td>3</td>\n",
              "      <td>5</td>\n",
              "      <td>3</td>\n",
              "      <td>84</td>\n",
              "      <td>110</td>\n",
              "      <td>23203.337</td>\n",
              "    </tr>\n",
              "    <tr>\n",
              "      <th>3</th>\n",
              "      <td>ycwLc+m2O0a85jSLALtr941AaZt9ai8Qwlg9n0Nql5U=</td>\n",
              "      <td>2017-03-31</td>\n",
              "      <td>176</td>\n",
              "      <td>4</td>\n",
              "      <td>2</td>\n",
              "      <td>2</td>\n",
              "      <td>19</td>\n",
              "      <td>191</td>\n",
              "      <td>7100.454</td>\n",
              "    </tr>\n",
              "    <tr>\n",
              "      <th>4</th>\n",
              "      <td>EGcbTofOSOkMmQyN1NMLxHEXJ1yV3t/JdhGwQ9wXjnI=</td>\n",
              "      <td>2017-03-31</td>\n",
              "      <td>2</td>\n",
              "      <td>1</td>\n",
              "      <td>0</td>\n",
              "      <td>1</td>\n",
              "      <td>112</td>\n",
              "      <td>93</td>\n",
              "      <td>28401.558</td>\n",
              "    </tr>\n",
              "  </tbody>\n",
              "</table>\n",
              "</div>\n",
              "      <button class=\"colab-df-convert\" onclick=\"convertToInteractive('df-7c5c4f23-d7b8-400a-a4fc-1d30c123ac89')\"\n",
              "              title=\"Convert this dataframe to an interactive table.\"\n",
              "              style=\"display:none;\">\n",
              "        \n",
              "  <svg xmlns=\"http://www.w3.org/2000/svg\" height=\"24px\"viewBox=\"0 0 24 24\"\n",
              "       width=\"24px\">\n",
              "    <path d=\"M0 0h24v24H0V0z\" fill=\"none\"/>\n",
              "    <path d=\"M18.56 5.44l.94 2.06.94-2.06 2.06-.94-2.06-.94-.94-2.06-.94 2.06-2.06.94zm-11 1L8.5 8.5l.94-2.06 2.06-.94-2.06-.94L8.5 2.5l-.94 2.06-2.06.94zm10 10l.94 2.06.94-2.06 2.06-.94-2.06-.94-.94-2.06-.94 2.06-2.06.94z\"/><path d=\"M17.41 7.96l-1.37-1.37c-.4-.4-.92-.59-1.43-.59-.52 0-1.04.2-1.43.59L10.3 9.45l-7.72 7.72c-.78.78-.78 2.05 0 2.83L4 21.41c.39.39.9.59 1.41.59.51 0 1.02-.2 1.41-.59l7.78-7.78 2.81-2.81c.8-.78.8-2.07 0-2.86zM5.41 20L4 18.59l7.72-7.72 1.47 1.35L5.41 20z\"/>\n",
              "  </svg>\n",
              "      </button>\n",
              "      \n",
              "  <style>\n",
              "    .colab-df-container {\n",
              "      display:flex;\n",
              "      flex-wrap:wrap;\n",
              "      gap: 12px;\n",
              "    }\n",
              "\n",
              "    .colab-df-convert {\n",
              "      background-color: #E8F0FE;\n",
              "      border: none;\n",
              "      border-radius: 50%;\n",
              "      cursor: pointer;\n",
              "      display: none;\n",
              "      fill: #1967D2;\n",
              "      height: 32px;\n",
              "      padding: 0 0 0 0;\n",
              "      width: 32px;\n",
              "    }\n",
              "\n",
              "    .colab-df-convert:hover {\n",
              "      background-color: #E2EBFA;\n",
              "      box-shadow: 0px 1px 2px rgba(60, 64, 67, 0.3), 0px 1px 3px 1px rgba(60, 64, 67, 0.15);\n",
              "      fill: #174EA6;\n",
              "    }\n",
              "\n",
              "    [theme=dark] .colab-df-convert {\n",
              "      background-color: #3B4455;\n",
              "      fill: #D2E3FC;\n",
              "    }\n",
              "\n",
              "    [theme=dark] .colab-df-convert:hover {\n",
              "      background-color: #434B5C;\n",
              "      box-shadow: 0px 1px 3px 1px rgba(0, 0, 0, 0.15);\n",
              "      filter: drop-shadow(0px 1px 2px rgba(0, 0, 0, 0.3));\n",
              "      fill: #FFFFFF;\n",
              "    }\n",
              "  </style>\n",
              "\n",
              "      <script>\n",
              "        const buttonEl =\n",
              "          document.querySelector('#df-7c5c4f23-d7b8-400a-a4fc-1d30c123ac89 button.colab-df-convert');\n",
              "        buttonEl.style.display =\n",
              "          google.colab.kernel.accessAllowed ? 'block' : 'none';\n",
              "\n",
              "        async function convertToInteractive(key) {\n",
              "          const element = document.querySelector('#df-7c5c4f23-d7b8-400a-a4fc-1d30c123ac89');\n",
              "          const dataTable =\n",
              "            await google.colab.kernel.invokeFunction('convertToInteractive',\n",
              "                                                     [key], {});\n",
              "          if (!dataTable) return;\n",
              "\n",
              "          const docLinkHtml = 'Like what you see? Visit the ' +\n",
              "            '<a target=\"_blank\" href=https://colab.research.google.com/notebooks/data_table.ipynb>data table notebook</a>'\n",
              "            + ' to learn more about interactive tables.';\n",
              "          element.innerHTML = '';\n",
              "          dataTable['output_type'] = 'display_data';\n",
              "          await google.colab.output.renderOutput(dataTable, element);\n",
              "          const docLink = document.createElement('div');\n",
              "          docLink.innerHTML = docLinkHtml;\n",
              "          element.appendChild(docLink);\n",
              "        }\n",
              "      </script>\n",
              "    </div>\n",
              "  </div>\n",
              "  "
            ]
          },
          "metadata": {},
          "execution_count": 27
        }
      ]
    },
    {
      "cell_type": "code",
      "source": [
        "user_logs.isnull().values.any()"
      ],
      "metadata": {
        "colab": {
          "base_uri": "https://localhost:8080/"
        },
        "id": "AnV-XVKbY9IT",
        "outputId": "6766392f-c0b2-486e-830d-57735f8f45a2"
      },
      "execution_count": null,
      "outputs": [
        {
          "output_type": "execute_result",
          "data": {
            "text/plain": [
              "False"
            ]
          },
          "metadata": {},
          "execution_count": 28
        }
      ]
    },
    {
      "cell_type": "code",
      "source": [
        "user_logs.duplicated().values.any()"
      ],
      "metadata": {
        "colab": {
          "base_uri": "https://localhost:8080/"
        },
        "id": "4wGthyWBY_ce",
        "outputId": "1243e6d8-46b7-4112-f783-3fbb3fee27ae"
      },
      "execution_count": null,
      "outputs": [
        {
          "output_type": "execute_result",
          "data": {
            "text/plain": [
              "False"
            ]
          },
          "metadata": {},
          "execution_count": 29
        }
      ]
    },
    {
      "cell_type": "code",
      "source": [
        "adjust_datatype(user_logs)"
      ],
      "metadata": {
        "id": "y0bxa8gPZKc4"
      },
      "execution_count": null,
      "outputs": []
    },
    {
      "cell_type": "code",
      "source": [
        "def preprocessing_for_userlogs(data):\n",
        "   # filling median date in place of nan in the df\n",
        "    data['date'] = data['date'].fillna(20170316.0)\n",
        "    # converting float date to datetime\n",
        "    data['date'] = pd.to_datetime(data['date'], format='%Y%m%d')\n",
        "\n",
        "    # removing outliers, impute median value is 2\n",
        "    data['num_25'] = data['num_25'].apply(lambda x: x if (x <= 15.0) else np.nan)\n",
        "    # now I can impute 2 instead of nan in num_25\n",
        "    data['num_25'] = data['num_25'].fillna(2.0)\n",
        "\n",
        "    # removing outliers, impute median value 0\n",
        "    data['num_50'] = data['num_50'].apply(lambda x: x if (x <= 4.0) else np.nan)\n",
        "    # now I can impute 0 instead of nan in num_50\n",
        "    data['num_50'] = data['num_50'].fillna(0)\n",
        "\n",
        "    # removing outliers, impute median value 0\n",
        "    data['num_75'] = data['num_75'].apply(lambda x: x if (x <= 3.0) else np.nan)\n",
        "    # now I can impute 0 instead of nan in num_75\n",
        "    data['num_75'] = data['num_75'].fillna(0)\n",
        "\n",
        "    # removing outliers, impute median value 0\n",
        "    data['num_985'] = data['num_985'].apply(lambda x: x if (x <= 3.0) else np.nan)\n",
        "    # now I can impute 0 instead of nan in num_985\n",
        "    data['num_985'] = data['num_985'].fillna(0)\n",
        "\n",
        "    # removing outliers, impute median value 14\n",
        "    data['num_100'] = data['num_100'].apply(lambda x: x if (x <= 74.0) else np.nan)\n",
        "    # now I can impute 14 instead of nan in num_100\n",
        "    data['num_100'] = data['num_100'].fillna(14.0)\n",
        "\n",
        "    # removing outliers, impute median value 16\n",
        "    data['num_unq'] = data['num_unq'].apply(lambda x: x if (x <= 68.0) else np.nan)\n",
        "    # now I can impute 16 instead of nan in num_unq\n",
        "    data['num_unq'] = data['num_unq'].fillna(16.0)\n",
        "\n",
        "    # removing outliers, impute median value 3880\n",
        "    data['total_secs'] = data['total_secs'].apply(lambda x: x if (x <= 19167.549700000025) else np.nan)\n",
        "    # now I can impute 3880.765 instead of nan in total_secs\n",
        "    data['total_secs'] = data['total_secs'].fillna(3880.765)\n",
        "    \n",
        "    return data"
      ],
      "metadata": {
        "id": "InqF4HH7ZUK9"
      },
      "execution_count": null,
      "outputs": []
    },
    {
      "cell_type": "code",
      "source": [
        "preprocessing_for_userlogs(user_logs)"
      ],
      "metadata": {
        "colab": {
          "base_uri": "https://localhost:8080/",
          "height": 424
        },
        "id": "WFax_ScobnTl",
        "outputId": "3309c083-fe47-491f-9d7e-af8d888a3c25"
      },
      "execution_count": null,
      "outputs": [
        {
          "output_type": "execute_result",
          "data": {
            "text/plain": [
              "                                                  msno       date  num_25  \\\n",
              "0         u9E91QDTvHLq6NXjEaWv8u4QIqhrHk72kE+w31Gnhdg= 2017-03-31     8.0   \n",
              "1         nTeWW/eOZA/UHKdD5L7DEqKKFTjaAj3ALLPoAWsU8n0= 2017-03-30     2.0   \n",
              "2         2UqkWXwZbIjs03dHLU9KHJNNEvEkZVzm69f3jCS+uLI= 2017-03-31     2.0   \n",
              "3         ycwLc+m2O0a85jSLALtr941AaZt9ai8Qwlg9n0Nql5U= 2017-03-31     2.0   \n",
              "4         EGcbTofOSOkMmQyN1NMLxHEXJ1yV3t/JdhGwQ9wXjnI= 2017-03-31     2.0   \n",
              "...                                                ...        ...     ...   \n",
              "18396357  FGpiy2mB+vXLKziYRcY/xJcJEFJfRDfUqlU+p760f7E= 2017-03-14     0.0   \n",
              "18396358  iZRjKNMrw5ffEbfXODLhV/0tJLPbOH3am1WYDgqBf8Q= 2017-03-06     0.0   \n",
              "18396359  yztw4Y0EggG0w2wPkbMZx7ke7saSx7dLSfMheHZG/DQ= 2017-03-31     0.0   \n",
              "18396360  swCHwkNx30/aENjq30qqaLlm7bUUytbMXdz1bH7g0Jk= 2017-03-07     0.0   \n",
              "18396361  pDQSIFZchNPmOproRzaNzy51/8yRXzLK3vvDXKzzGLQ= 2017-03-29     0.0   \n",
              "\n",
              "          num_50  num_75  num_985  num_100  num_unq   total_secs  \n",
              "0            4.0     0.0      1.0     21.0     18.0  6309.272949  \n",
              "1            2.0     1.0      0.0      9.0     11.0  2390.698975  \n",
              "2            3.0     0.0      3.0     14.0     16.0  3880.765000  \n",
              "3            4.0     2.0      2.0     19.0     16.0  7100.454102  \n",
              "4            1.0     0.0      1.0     14.0     16.0  3880.765000  \n",
              "...          ...     ...      ...      ...      ...          ...  \n",
              "18396357     0.0     0.0      0.0      1.0      1.0   248.057999  \n",
              "18396358     0.0     0.0      0.0      1.0      1.0   311.000000  \n",
              "18396359     0.0     0.0      0.0     17.0      1.0  3973.188965  \n",
              "18396360     0.0     0.0      1.0      0.0      1.0   179.278000  \n",
              "18396361     0.0     0.0      0.0      1.0      1.0   264.287994  \n",
              "\n",
              "[18396362 rows x 9 columns]"
            ],
            "text/html": [
              "\n",
              "  <div id=\"df-9fb0740c-c396-4180-996c-1082d8cf13d6\">\n",
              "    <div class=\"colab-df-container\">\n",
              "      <div>\n",
              "<style scoped>\n",
              "    .dataframe tbody tr th:only-of-type {\n",
              "        vertical-align: middle;\n",
              "    }\n",
              "\n",
              "    .dataframe tbody tr th {\n",
              "        vertical-align: top;\n",
              "    }\n",
              "\n",
              "    .dataframe thead th {\n",
              "        text-align: right;\n",
              "    }\n",
              "</style>\n",
              "<table border=\"1\" class=\"dataframe\">\n",
              "  <thead>\n",
              "    <tr style=\"text-align: right;\">\n",
              "      <th></th>\n",
              "      <th>msno</th>\n",
              "      <th>date</th>\n",
              "      <th>num_25</th>\n",
              "      <th>num_50</th>\n",
              "      <th>num_75</th>\n",
              "      <th>num_985</th>\n",
              "      <th>num_100</th>\n",
              "      <th>num_unq</th>\n",
              "      <th>total_secs</th>\n",
              "    </tr>\n",
              "  </thead>\n",
              "  <tbody>\n",
              "    <tr>\n",
              "      <th>0</th>\n",
              "      <td>u9E91QDTvHLq6NXjEaWv8u4QIqhrHk72kE+w31Gnhdg=</td>\n",
              "      <td>2017-03-31</td>\n",
              "      <td>8.0</td>\n",
              "      <td>4.0</td>\n",
              "      <td>0.0</td>\n",
              "      <td>1.0</td>\n",
              "      <td>21.0</td>\n",
              "      <td>18.0</td>\n",
              "      <td>6309.272949</td>\n",
              "    </tr>\n",
              "    <tr>\n",
              "      <th>1</th>\n",
              "      <td>nTeWW/eOZA/UHKdD5L7DEqKKFTjaAj3ALLPoAWsU8n0=</td>\n",
              "      <td>2017-03-30</td>\n",
              "      <td>2.0</td>\n",
              "      <td>2.0</td>\n",
              "      <td>1.0</td>\n",
              "      <td>0.0</td>\n",
              "      <td>9.0</td>\n",
              "      <td>11.0</td>\n",
              "      <td>2390.698975</td>\n",
              "    </tr>\n",
              "    <tr>\n",
              "      <th>2</th>\n",
              "      <td>2UqkWXwZbIjs03dHLU9KHJNNEvEkZVzm69f3jCS+uLI=</td>\n",
              "      <td>2017-03-31</td>\n",
              "      <td>2.0</td>\n",
              "      <td>3.0</td>\n",
              "      <td>0.0</td>\n",
              "      <td>3.0</td>\n",
              "      <td>14.0</td>\n",
              "      <td>16.0</td>\n",
              "      <td>3880.765000</td>\n",
              "    </tr>\n",
              "    <tr>\n",
              "      <th>3</th>\n",
              "      <td>ycwLc+m2O0a85jSLALtr941AaZt9ai8Qwlg9n0Nql5U=</td>\n",
              "      <td>2017-03-31</td>\n",
              "      <td>2.0</td>\n",
              "      <td>4.0</td>\n",
              "      <td>2.0</td>\n",
              "      <td>2.0</td>\n",
              "      <td>19.0</td>\n",
              "      <td>16.0</td>\n",
              "      <td>7100.454102</td>\n",
              "    </tr>\n",
              "    <tr>\n",
              "      <th>4</th>\n",
              "      <td>EGcbTofOSOkMmQyN1NMLxHEXJ1yV3t/JdhGwQ9wXjnI=</td>\n",
              "      <td>2017-03-31</td>\n",
              "      <td>2.0</td>\n",
              "      <td>1.0</td>\n",
              "      <td>0.0</td>\n",
              "      <td>1.0</td>\n",
              "      <td>14.0</td>\n",
              "      <td>16.0</td>\n",
              "      <td>3880.765000</td>\n",
              "    </tr>\n",
              "    <tr>\n",
              "      <th>...</th>\n",
              "      <td>...</td>\n",
              "      <td>...</td>\n",
              "      <td>...</td>\n",
              "      <td>...</td>\n",
              "      <td>...</td>\n",
              "      <td>...</td>\n",
              "      <td>...</td>\n",
              "      <td>...</td>\n",
              "      <td>...</td>\n",
              "    </tr>\n",
              "    <tr>\n",
              "      <th>18396357</th>\n",
              "      <td>FGpiy2mB+vXLKziYRcY/xJcJEFJfRDfUqlU+p760f7E=</td>\n",
              "      <td>2017-03-14</td>\n",
              "      <td>0.0</td>\n",
              "      <td>0.0</td>\n",
              "      <td>0.0</td>\n",
              "      <td>0.0</td>\n",
              "      <td>1.0</td>\n",
              "      <td>1.0</td>\n",
              "      <td>248.057999</td>\n",
              "    </tr>\n",
              "    <tr>\n",
              "      <th>18396358</th>\n",
              "      <td>iZRjKNMrw5ffEbfXODLhV/0tJLPbOH3am1WYDgqBf8Q=</td>\n",
              "      <td>2017-03-06</td>\n",
              "      <td>0.0</td>\n",
              "      <td>0.0</td>\n",
              "      <td>0.0</td>\n",
              "      <td>0.0</td>\n",
              "      <td>1.0</td>\n",
              "      <td>1.0</td>\n",
              "      <td>311.000000</td>\n",
              "    </tr>\n",
              "    <tr>\n",
              "      <th>18396359</th>\n",
              "      <td>yztw4Y0EggG0w2wPkbMZx7ke7saSx7dLSfMheHZG/DQ=</td>\n",
              "      <td>2017-03-31</td>\n",
              "      <td>0.0</td>\n",
              "      <td>0.0</td>\n",
              "      <td>0.0</td>\n",
              "      <td>0.0</td>\n",
              "      <td>17.0</td>\n",
              "      <td>1.0</td>\n",
              "      <td>3973.188965</td>\n",
              "    </tr>\n",
              "    <tr>\n",
              "      <th>18396360</th>\n",
              "      <td>swCHwkNx30/aENjq30qqaLlm7bUUytbMXdz1bH7g0Jk=</td>\n",
              "      <td>2017-03-07</td>\n",
              "      <td>0.0</td>\n",
              "      <td>0.0</td>\n",
              "      <td>0.0</td>\n",
              "      <td>1.0</td>\n",
              "      <td>0.0</td>\n",
              "      <td>1.0</td>\n",
              "      <td>179.278000</td>\n",
              "    </tr>\n",
              "    <tr>\n",
              "      <th>18396361</th>\n",
              "      <td>pDQSIFZchNPmOproRzaNzy51/8yRXzLK3vvDXKzzGLQ=</td>\n",
              "      <td>2017-03-29</td>\n",
              "      <td>0.0</td>\n",
              "      <td>0.0</td>\n",
              "      <td>0.0</td>\n",
              "      <td>0.0</td>\n",
              "      <td>1.0</td>\n",
              "      <td>1.0</td>\n",
              "      <td>264.287994</td>\n",
              "    </tr>\n",
              "  </tbody>\n",
              "</table>\n",
              "<p>18396362 rows × 9 columns</p>\n",
              "</div>\n",
              "      <button class=\"colab-df-convert\" onclick=\"convertToInteractive('df-9fb0740c-c396-4180-996c-1082d8cf13d6')\"\n",
              "              title=\"Convert this dataframe to an interactive table.\"\n",
              "              style=\"display:none;\">\n",
              "        \n",
              "  <svg xmlns=\"http://www.w3.org/2000/svg\" height=\"24px\"viewBox=\"0 0 24 24\"\n",
              "       width=\"24px\">\n",
              "    <path d=\"M0 0h24v24H0V0z\" fill=\"none\"/>\n",
              "    <path d=\"M18.56 5.44l.94 2.06.94-2.06 2.06-.94-2.06-.94-.94-2.06-.94 2.06-2.06.94zm-11 1L8.5 8.5l.94-2.06 2.06-.94-2.06-.94L8.5 2.5l-.94 2.06-2.06.94zm10 10l.94 2.06.94-2.06 2.06-.94-2.06-.94-.94-2.06-.94 2.06-2.06.94z\"/><path d=\"M17.41 7.96l-1.37-1.37c-.4-.4-.92-.59-1.43-.59-.52 0-1.04.2-1.43.59L10.3 9.45l-7.72 7.72c-.78.78-.78 2.05 0 2.83L4 21.41c.39.39.9.59 1.41.59.51 0 1.02-.2 1.41-.59l7.78-7.78 2.81-2.81c.8-.78.8-2.07 0-2.86zM5.41 20L4 18.59l7.72-7.72 1.47 1.35L5.41 20z\"/>\n",
              "  </svg>\n",
              "      </button>\n",
              "      \n",
              "  <style>\n",
              "    .colab-df-container {\n",
              "      display:flex;\n",
              "      flex-wrap:wrap;\n",
              "      gap: 12px;\n",
              "    }\n",
              "\n",
              "    .colab-df-convert {\n",
              "      background-color: #E8F0FE;\n",
              "      border: none;\n",
              "      border-radius: 50%;\n",
              "      cursor: pointer;\n",
              "      display: none;\n",
              "      fill: #1967D2;\n",
              "      height: 32px;\n",
              "      padding: 0 0 0 0;\n",
              "      width: 32px;\n",
              "    }\n",
              "\n",
              "    .colab-df-convert:hover {\n",
              "      background-color: #E2EBFA;\n",
              "      box-shadow: 0px 1px 2px rgba(60, 64, 67, 0.3), 0px 1px 3px 1px rgba(60, 64, 67, 0.15);\n",
              "      fill: #174EA6;\n",
              "    }\n",
              "\n",
              "    [theme=dark] .colab-df-convert {\n",
              "      background-color: #3B4455;\n",
              "      fill: #D2E3FC;\n",
              "    }\n",
              "\n",
              "    [theme=dark] .colab-df-convert:hover {\n",
              "      background-color: #434B5C;\n",
              "      box-shadow: 0px 1px 3px 1px rgba(0, 0, 0, 0.15);\n",
              "      filter: drop-shadow(0px 1px 2px rgba(0, 0, 0, 0.3));\n",
              "      fill: #FFFFFF;\n",
              "    }\n",
              "  </style>\n",
              "\n",
              "      <script>\n",
              "        const buttonEl =\n",
              "          document.querySelector('#df-9fb0740c-c396-4180-996c-1082d8cf13d6 button.colab-df-convert');\n",
              "        buttonEl.style.display =\n",
              "          google.colab.kernel.accessAllowed ? 'block' : 'none';\n",
              "\n",
              "        async function convertToInteractive(key) {\n",
              "          const element = document.querySelector('#df-9fb0740c-c396-4180-996c-1082d8cf13d6');\n",
              "          const dataTable =\n",
              "            await google.colab.kernel.invokeFunction('convertToInteractive',\n",
              "                                                     [key], {});\n",
              "          if (!dataTable) return;\n",
              "\n",
              "          const docLinkHtml = 'Like what you see? Visit the ' +\n",
              "            '<a target=\"_blank\" href=https://colab.research.google.com/notebooks/data_table.ipynb>data table notebook</a>'\n",
              "            + ' to learn more about interactive tables.';\n",
              "          element.innerHTML = '';\n",
              "          dataTable['output_type'] = 'display_data';\n",
              "          await google.colab.output.renderOutput(dataTable, element);\n",
              "          const docLink = document.createElement('div');\n",
              "          docLink.innerHTML = docLinkHtml;\n",
              "          element.appendChild(docLink);\n",
              "        }\n",
              "      </script>\n",
              "    </div>\n",
              "  </div>\n",
              "  "
            ]
          },
          "metadata": {},
          "execution_count": 32
        }
      ]
    },
    {
      "cell_type": "code",
      "source": [
        "adjust_datatype(user_logs)"
      ],
      "metadata": {
        "id": "G-KAL0HMcbR7"
      },
      "execution_count": null,
      "outputs": []
    },
    {
      "cell_type": "code",
      "source": [
        "user_logs = user_logs.drop_duplicates('msno', keep='first', inplace=False)"
      ],
      "metadata": {
        "id": "9H5JqXJUceAG"
      },
      "execution_count": null,
      "outputs": []
    },
    {
      "cell_type": "code",
      "source": [
        "user_logs.shape"
      ],
      "metadata": {
        "colab": {
          "base_uri": "https://localhost:8080/"
        },
        "id": "inVEn-j9cmdm",
        "outputId": "b580c9f5-2248-4fb0-afae-a29cc9d82eee"
      },
      "execution_count": null,
      "outputs": [
        {
          "output_type": "execute_result",
          "data": {
            "text/plain": [
              "(1103894, 9)"
            ]
          },
          "metadata": {},
          "execution_count": 35
        }
      ]
    },
    {
      "cell_type": "markdown",
      "source": [
        "**Adding some more features to user logs data**"
      ],
      "metadata": {
        "id": "pdddX1u_c4u2"
      }
    },
    {
      "cell_type": "code",
      "source": [
        "temp_df1 = user_logs.groupby('msno').agg(total_secs_mean = ('total_secs', 'mean'))"
      ],
      "metadata": {
        "id": "E72KlSVVdAct"
      },
      "execution_count": null,
      "outputs": []
    },
    {
      "cell_type": "code",
      "source": [
        "user_logs = pd.merge(user_logs, temp_df1, on='msno', how='left')"
      ],
      "metadata": {
        "id": "14vqYeYslDRD"
      },
      "execution_count": null,
      "outputs": []
    },
    {
      "cell_type": "code",
      "source": [
        "user_logs = user_logs.drop_duplicates('msno', keep='first', inplace=False)"
      ],
      "metadata": {
        "id": "lz00-RMHlRX6"
      },
      "execution_count": null,
      "outputs": []
    },
    {
      "cell_type": "code",
      "source": [
        "adjust_datatype(user_logs)"
      ],
      "metadata": {
        "id": "r__DU3L1l_B2"
      },
      "execution_count": null,
      "outputs": []
    },
    {
      "cell_type": "code",
      "source": [
        "user_logs.to_csv('/content/drive/MyDrive/KKbox_data/New_preprocessed_Data/user_logs_updated')"
      ],
      "metadata": {
        "id": "pWIjzK1UmFx0"
      },
      "execution_count": null,
      "outputs": []
    }
  ]
}