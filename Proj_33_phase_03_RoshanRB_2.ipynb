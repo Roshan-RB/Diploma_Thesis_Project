{
  "nbformat": 4,
  "nbformat_minor": 0,
  "metadata": {
    "colab": {
      "name": "Proj_33_phase_03_RoshanRB_2.ipynb",
      "provenance": [],
      "collapsed_sections": [
        "-P1wrG-N1M5j",
        "cTEDP5xV1CXl",
        "IJ8x-WRLp0sA"
      ]
    },
    "kernelspec": {
      "name": "python3",
      "display_name": "Python 3"
    },
    "language_info": {
      "name": "python"
    },
    "accelerator": "GPU",
    "gpuClass": "standard"
  },
  "cells": [
    {
      "cell_type": "markdown",
      "source": [
        "# **Data for modeling**"
      ],
      "metadata": {
        "id": "65v9Gc4s1Y_r"
      }
    },
    {
      "cell_type": "code",
      "execution_count": null,
      "metadata": {
        "colab": {
          "base_uri": "https://localhost:8080/"
        },
        "id": "JGCnS2GqKs2D",
        "outputId": "08e107fb-6d22-41bb-8615-2e584d1f1363"
      },
      "outputs": [
        {
          "output_type": "stream",
          "name": "stdout",
          "text": [
            "Looking in indexes: https://pypi.org/simple, https://us-python.pkg.dev/colab-wheels/public/simple/\n",
            "Requirement already satisfied: dask[dataframe] in /usr/local/lib/python3.7/dist-packages (2.12.0)\n",
            "Collecting partd>=0.3.10\n",
            "  Downloading partd-1.2.0-py3-none-any.whl (19 kB)\n",
            "Requirement already satisfied: toolz>=0.7.3 in /usr/local/lib/python3.7/dist-packages (from dask[dataframe]) (0.12.0)\n",
            "Collecting fsspec>=0.6.0\n",
            "  Downloading fsspec-2022.7.1-py3-none-any.whl (141 kB)\n",
            "\u001b[K     |████████████████████████████████| 141 kB 37.6 MB/s \n",
            "\u001b[?25hRequirement already satisfied: numpy>=1.13.0 in /usr/local/lib/python3.7/dist-packages (from dask[dataframe]) (1.21.6)\n",
            "Requirement already satisfied: pandas>=0.23.0 in /usr/local/lib/python3.7/dist-packages (from dask[dataframe]) (1.3.5)\n",
            "Requirement already satisfied: python-dateutil>=2.7.3 in /usr/local/lib/python3.7/dist-packages (from pandas>=0.23.0->dask[dataframe]) (2.8.2)\n",
            "Requirement already satisfied: pytz>=2017.3 in /usr/local/lib/python3.7/dist-packages (from pandas>=0.23.0->dask[dataframe]) (2022.1)\n",
            "Collecting locket\n",
            "  Downloading locket-1.0.0-py2.py3-none-any.whl (4.4 kB)\n",
            "Requirement already satisfied: six>=1.5 in /usr/local/lib/python3.7/dist-packages (from python-dateutil>=2.7.3->pandas>=0.23.0->dask[dataframe]) (1.15.0)\n",
            "Installing collected packages: locket, partd, fsspec\n",
            "Successfully installed fsspec-2022.7.1 locket-1.0.0 partd-1.2.0\n"
          ]
        }
      ],
      "source": [
        "pip install \"dask[dataframe]\" --upgrade"
      ]
    },
    {
      "cell_type": "code",
      "source": [
        "import os\n",
        "import pandas as pd\n",
        "import numpy as np\n",
        "import matplotlib.pyplot as plt\n",
        "import seaborn as sns\n",
        "import gc \n",
        "import warnings\n",
        "import dask.dataframe as dd\n",
        "from matplotlib.pyplot import figure\n",
        "sns.set()\n",
        "warnings.filterwarnings(\"ignore\")"
      ],
      "metadata": {
        "id": "3j3TEsN-LAvN"
      },
      "execution_count": null,
      "outputs": []
    },
    {
      "cell_type": "code",
      "source": [
        "def adjust_datatype(df):\n",
        "    \"\"\"\n",
        "    This function adjust the datatypes of columns based upon their range\n",
        "    \n",
        "    Input take DataFrame\n",
        "    \n",
        "    example:\n",
        "    if a column's maximum and minimum values are in range of (-128 to 127) then datatype\n",
        "    to store that column is changed to int8\n",
        "    \n",
        "    Reference:\n",
        "    https://www.kaggle.com/jeru666/did-you-think-of-these-features\n",
        "    \n",
        "    \"\"\"\n",
        "    int_cols = list(df.select_dtypes(include=['int']).columns)\n",
        "    for col in int_cols:\n",
        "        if ((np.max(df[col]) <= 127) and (np.min(df[col] >= -128))):\n",
        "            df[col] = df[col].astype(np.int8)\n",
        "        elif ((np.max(df[col]) <= 32767) and (np.min(df[col] >= -32768))):\n",
        "            df[col] = df[col].astype(np.int16)\n",
        "        elif ((np.max(df[col]) <= 2147483647) and (np.min(df[col] >= -2147483648))):\n",
        "            df[col] = df[col].astype(np.int32)\n",
        "        else:\n",
        "            df[col] = df[col].astype(np.int64)          \n",
        "    float_cols = list(df.select_dtypes(include=['float']).columns)\n",
        "    for col in float_cols:\n",
        "        df[col] = df[col].astype(np.float32)\n",
        "        \n",
        "        \n",
        "        \n",
        "        \n",
        "        \n",
        "def restart_kernel():\n",
        "    \"\"\"\n",
        "    Used to get rid of unnessary variable\n",
        "    \n",
        "    https://stackoverflow.com/questions/37751120/restart-ipython-kernel-with-a-command-from-a-cell\n",
        "    \"\"\"\n",
        "    from IPython.core.display import HTML\n",
        "    HTML(\"<script>Jupyter.notebook.kernel.restart()</script>\")\n",
        "    import os\n",
        "    import pandas as pd\n",
        "    import numpy as np\n",
        "    import matplotlib.pyplot as plt\n",
        "    import seaborn as sns\n",
        "    import gc \n",
        "    import warnings\n",
        "    import dask.dataframe as dd\n",
        "    from matplotlib.pyplot import figure\n",
        "    sns.set()\n",
        "    warnings.filterwarnings(\"ignore\")"
      ],
      "metadata": {
        "id": "hPnCbdHeLDoU"
      },
      "execution_count": null,
      "outputs": []
    },
    {
      "cell_type": "code",
      "source": [
        "combined = pd.read_csv('/content/drive/MyDrive/KKbox_data/New_preprocessed_Data/combined.csv')"
      ],
      "metadata": {
        "id": "0Y8Cra75LG8j"
      },
      "execution_count": null,
      "outputs": []
    },
    {
      "cell_type": "code",
      "source": [
        "combined.fillna(0,inplace=True)"
      ],
      "metadata": {
        "id": "e-bHtv9kOxgC"
      },
      "execution_count": null,
      "outputs": []
    },
    {
      "cell_type": "code",
      "source": [
        "adjust_datatype(combined)"
      ],
      "metadata": {
        "id": "t0hkJm7ZO1dq"
      },
      "execution_count": null,
      "outputs": []
    },
    {
      "cell_type": "code",
      "source": [
        "import re\n",
        "combined['registration_init_time'] = combined['registration_init_time'].apply(lambda x:int(re.sub('-','',str(x))))"
      ],
      "metadata": {
        "id": "QR6ZUFarO37x"
      },
      "execution_count": null,
      "outputs": []
    },
    {
      "cell_type": "code",
      "source": [
        "combined['transaction_date'] = combined['transaction_date'].apply(lambda x:int(re.sub('-','',str(x))))"
      ],
      "metadata": {
        "id": "xOuc-DVXO9mZ"
      },
      "execution_count": null,
      "outputs": []
    },
    {
      "cell_type": "code",
      "source": [
        "combined['membership_expire_date'] = combined['membership_expire_date'].apply(lambda x:int(re.sub('-','',str(x))))"
      ],
      "metadata": {
        "id": "_2mcm3eWPCbi"
      },
      "execution_count": null,
      "outputs": []
    },
    {
      "cell_type": "code",
      "source": [
        "combined['date'] = combined['date'].apply(lambda x:int(re.sub('-','',str(x))))"
      ],
      "metadata": {
        "id": "1b3UfTocPH8K"
      },
      "execution_count": null,
      "outputs": []
    },
    {
      "cell_type": "code",
      "source": [
        "combined  = combined.drop_duplicates('msno', keep='first', inplace=False)"
      ],
      "metadata": {
        "id": "H67P5iVmPUmj"
      },
      "execution_count": null,
      "outputs": []
    },
    {
      "cell_type": "code",
      "source": [
        "train_data = pd.read_csv('/content/drive/MyDrive/KKbox_data/train_v2.csv')"
      ],
      "metadata": {
        "id": "pADyBjPXPX8i"
      },
      "execution_count": null,
      "outputs": []
    },
    {
      "cell_type": "code",
      "source": [
        "train_data=pd.merge(train_data,combined,on='msno',how='left')\n",
        "train_data.fillna(0,inplace=True)"
      ],
      "metadata": {
        "id": "C1i-DJsGPbMI"
      },
      "execution_count": null,
      "outputs": []
    },
    {
      "cell_type": "code",
      "source": [
        "train_data.shape"
      ],
      "metadata": {
        "colab": {
          "base_uri": "https://localhost:8080/"
        },
        "id": "Uac8qD16QcuY",
        "outputId": "d7b578ac-1539-4014-892b-d31b8e147144"
      },
      "execution_count": null,
      "outputs": [
        {
          "output_type": "execute_result",
          "data": {
            "text/plain": [
              "(970960, 31)"
            ]
          },
          "metadata": {},
          "execution_count": 15
        }
      ]
    },
    {
      "cell_type": "code",
      "source": [
        "train_data  = train_data.drop_duplicates('msno', keep='first', inplace=False)"
      ],
      "metadata": {
        "id": "O6qDVXCzQhB3"
      },
      "execution_count": null,
      "outputs": []
    },
    {
      "cell_type": "code",
      "source": [
        "train_features = train_data.columns\n",
        "train_features = list(train_features)\n",
        "train_features.remove('is_churn')\n",
        "train_features.remove('msno')\n",
        "train_data.head()"
      ],
      "metadata": {
        "colab": {
          "base_uri": "https://localhost:8080/",
          "height": 300
        },
        "id": "Svsf4GvjQj7y",
        "outputId": "660b45ab-8f6e-4606-9213-62ca0f357a33"
      },
      "execution_count": null,
      "outputs": [
        {
          "output_type": "execute_result",
          "data": {
            "text/plain": [
              "                                           msno  is_churn    bd  \\\n",
              "0  ugx0CjOMzazClkFzU2xasmDZaoIqOUAZPsH1q0teWCg=         1  28.0   \n",
              "1  f/NmvEzHfhINFEYZTR05prUdr+E+3+oewvweYz9cCQE=         1  20.0   \n",
              "2  zLo9f73nGGT1p21ltZC3ChiRnAVvgibMyazbCxvWPcg=         1  18.0   \n",
              "3  8iF/+8HY8lJKFrTc7iR9ZYGCG2Ecrogbc2Vy5YhsfhQ=         1  28.0   \n",
              "4  K6fja4+jmoZ5xG6BypqX80Uw/XKpMgrEMdG2edFOxnA=         1  35.0   \n",
              "\n",
              "   registered_via  registration_init_time  city_feature  \\\n",
              "0             3.0              20131223.0           0.0   \n",
              "1             3.0              20131223.0           1.0   \n",
              "2             3.0              20131227.0           1.0   \n",
              "3             7.0              20140109.0           1.0   \n",
              "4             7.0              20140125.0           1.0   \n",
              "\n",
              "   registration_method_f  payment_method_id  payment_plan_days  \\\n",
              "0                    0.0                0.0                0.0   \n",
              "1                    0.0               36.0               30.0   \n",
              "2                    0.0               17.0               30.0   \n",
              "3                    1.0               41.0               30.0   \n",
              "4                    1.0               41.0               30.0   \n",
              "\n",
              "   plan_list_price  ...  change_in_plan        date  num_25  num_50  num_75  \\\n",
              "0              0.0  ...             0.0  20170305.0     7.0     0.0     3.0   \n",
              "1            180.0  ...             1.0  20170320.0     0.0     1.0     1.0   \n",
              "2              0.0  ...             1.0  20170316.0    10.0     1.0     1.0   \n",
              "3            149.0  ...             1.0         0.0     0.0     0.0     0.0   \n",
              "4             99.0  ...             1.0  20170304.0     1.0     0.0     1.0   \n",
              "\n",
              "   num_985  num_100  num_unq    total_secs  total_secs_mean  \n",
              "0      0.0     71.0     68.0  17599.892578     17599.892578  \n",
              "1      0.0      0.0      2.0    217.548004       217.548004  \n",
              "2      1.0      3.0     15.0   1249.300049      1249.300049  \n",
              "3      0.0      0.0      0.0      0.000000         0.000000  \n",
              "4      0.0     36.0     36.0   8746.115234      8746.115234  \n",
              "\n",
              "[5 rows x 31 columns]"
            ],
            "text/html": [
              "\n",
              "  <div id=\"df-2ae9ba12-1de6-454a-8734-107908ee4ed5\">\n",
              "    <div class=\"colab-df-container\">\n",
              "      <div>\n",
              "<style scoped>\n",
              "    .dataframe tbody tr th:only-of-type {\n",
              "        vertical-align: middle;\n",
              "    }\n",
              "\n",
              "    .dataframe tbody tr th {\n",
              "        vertical-align: top;\n",
              "    }\n",
              "\n",
              "    .dataframe thead th {\n",
              "        text-align: right;\n",
              "    }\n",
              "</style>\n",
              "<table border=\"1\" class=\"dataframe\">\n",
              "  <thead>\n",
              "    <tr style=\"text-align: right;\">\n",
              "      <th></th>\n",
              "      <th>msno</th>\n",
              "      <th>is_churn</th>\n",
              "      <th>bd</th>\n",
              "      <th>registered_via</th>\n",
              "      <th>registration_init_time</th>\n",
              "      <th>city_feature</th>\n",
              "      <th>registration_method_f</th>\n",
              "      <th>payment_method_id</th>\n",
              "      <th>payment_plan_days</th>\n",
              "      <th>plan_list_price</th>\n",
              "      <th>...</th>\n",
              "      <th>change_in_plan</th>\n",
              "      <th>date</th>\n",
              "      <th>num_25</th>\n",
              "      <th>num_50</th>\n",
              "      <th>num_75</th>\n",
              "      <th>num_985</th>\n",
              "      <th>num_100</th>\n",
              "      <th>num_unq</th>\n",
              "      <th>total_secs</th>\n",
              "      <th>total_secs_mean</th>\n",
              "    </tr>\n",
              "  </thead>\n",
              "  <tbody>\n",
              "    <tr>\n",
              "      <th>0</th>\n",
              "      <td>ugx0CjOMzazClkFzU2xasmDZaoIqOUAZPsH1q0teWCg=</td>\n",
              "      <td>1</td>\n",
              "      <td>28.0</td>\n",
              "      <td>3.0</td>\n",
              "      <td>20131223.0</td>\n",
              "      <td>0.0</td>\n",
              "      <td>0.0</td>\n",
              "      <td>0.0</td>\n",
              "      <td>0.0</td>\n",
              "      <td>0.0</td>\n",
              "      <td>...</td>\n",
              "      <td>0.0</td>\n",
              "      <td>20170305.0</td>\n",
              "      <td>7.0</td>\n",
              "      <td>0.0</td>\n",
              "      <td>3.0</td>\n",
              "      <td>0.0</td>\n",
              "      <td>71.0</td>\n",
              "      <td>68.0</td>\n",
              "      <td>17599.892578</td>\n",
              "      <td>17599.892578</td>\n",
              "    </tr>\n",
              "    <tr>\n",
              "      <th>1</th>\n",
              "      <td>f/NmvEzHfhINFEYZTR05prUdr+E+3+oewvweYz9cCQE=</td>\n",
              "      <td>1</td>\n",
              "      <td>20.0</td>\n",
              "      <td>3.0</td>\n",
              "      <td>20131223.0</td>\n",
              "      <td>1.0</td>\n",
              "      <td>0.0</td>\n",
              "      <td>36.0</td>\n",
              "      <td>30.0</td>\n",
              "      <td>180.0</td>\n",
              "      <td>...</td>\n",
              "      <td>1.0</td>\n",
              "      <td>20170320.0</td>\n",
              "      <td>0.0</td>\n",
              "      <td>1.0</td>\n",
              "      <td>1.0</td>\n",
              "      <td>0.0</td>\n",
              "      <td>0.0</td>\n",
              "      <td>2.0</td>\n",
              "      <td>217.548004</td>\n",
              "      <td>217.548004</td>\n",
              "    </tr>\n",
              "    <tr>\n",
              "      <th>2</th>\n",
              "      <td>zLo9f73nGGT1p21ltZC3ChiRnAVvgibMyazbCxvWPcg=</td>\n",
              "      <td>1</td>\n",
              "      <td>18.0</td>\n",
              "      <td>3.0</td>\n",
              "      <td>20131227.0</td>\n",
              "      <td>1.0</td>\n",
              "      <td>0.0</td>\n",
              "      <td>17.0</td>\n",
              "      <td>30.0</td>\n",
              "      <td>0.0</td>\n",
              "      <td>...</td>\n",
              "      <td>1.0</td>\n",
              "      <td>20170316.0</td>\n",
              "      <td>10.0</td>\n",
              "      <td>1.0</td>\n",
              "      <td>1.0</td>\n",
              "      <td>1.0</td>\n",
              "      <td>3.0</td>\n",
              "      <td>15.0</td>\n",
              "      <td>1249.300049</td>\n",
              "      <td>1249.300049</td>\n",
              "    </tr>\n",
              "    <tr>\n",
              "      <th>3</th>\n",
              "      <td>8iF/+8HY8lJKFrTc7iR9ZYGCG2Ecrogbc2Vy5YhsfhQ=</td>\n",
              "      <td>1</td>\n",
              "      <td>28.0</td>\n",
              "      <td>7.0</td>\n",
              "      <td>20140109.0</td>\n",
              "      <td>1.0</td>\n",
              "      <td>1.0</td>\n",
              "      <td>41.0</td>\n",
              "      <td>30.0</td>\n",
              "      <td>149.0</td>\n",
              "      <td>...</td>\n",
              "      <td>1.0</td>\n",
              "      <td>0.0</td>\n",
              "      <td>0.0</td>\n",
              "      <td>0.0</td>\n",
              "      <td>0.0</td>\n",
              "      <td>0.0</td>\n",
              "      <td>0.0</td>\n",
              "      <td>0.0</td>\n",
              "      <td>0.000000</td>\n",
              "      <td>0.000000</td>\n",
              "    </tr>\n",
              "    <tr>\n",
              "      <th>4</th>\n",
              "      <td>K6fja4+jmoZ5xG6BypqX80Uw/XKpMgrEMdG2edFOxnA=</td>\n",
              "      <td>1</td>\n",
              "      <td>35.0</td>\n",
              "      <td>7.0</td>\n",
              "      <td>20140125.0</td>\n",
              "      <td>1.0</td>\n",
              "      <td>1.0</td>\n",
              "      <td>41.0</td>\n",
              "      <td>30.0</td>\n",
              "      <td>99.0</td>\n",
              "      <td>...</td>\n",
              "      <td>1.0</td>\n",
              "      <td>20170304.0</td>\n",
              "      <td>1.0</td>\n",
              "      <td>0.0</td>\n",
              "      <td>1.0</td>\n",
              "      <td>0.0</td>\n",
              "      <td>36.0</td>\n",
              "      <td>36.0</td>\n",
              "      <td>8746.115234</td>\n",
              "      <td>8746.115234</td>\n",
              "    </tr>\n",
              "  </tbody>\n",
              "</table>\n",
              "<p>5 rows × 31 columns</p>\n",
              "</div>\n",
              "      <button class=\"colab-df-convert\" onclick=\"convertToInteractive('df-2ae9ba12-1de6-454a-8734-107908ee4ed5')\"\n",
              "              title=\"Convert this dataframe to an interactive table.\"\n",
              "              style=\"display:none;\">\n",
              "        \n",
              "  <svg xmlns=\"http://www.w3.org/2000/svg\" height=\"24px\"viewBox=\"0 0 24 24\"\n",
              "       width=\"24px\">\n",
              "    <path d=\"M0 0h24v24H0V0z\" fill=\"none\"/>\n",
              "    <path d=\"M18.56 5.44l.94 2.06.94-2.06 2.06-.94-2.06-.94-.94-2.06-.94 2.06-2.06.94zm-11 1L8.5 8.5l.94-2.06 2.06-.94-2.06-.94L8.5 2.5l-.94 2.06-2.06.94zm10 10l.94 2.06.94-2.06 2.06-.94-2.06-.94-.94-2.06-.94 2.06-2.06.94z\"/><path d=\"M17.41 7.96l-1.37-1.37c-.4-.4-.92-.59-1.43-.59-.52 0-1.04.2-1.43.59L10.3 9.45l-7.72 7.72c-.78.78-.78 2.05 0 2.83L4 21.41c.39.39.9.59 1.41.59.51 0 1.02-.2 1.41-.59l7.78-7.78 2.81-2.81c.8-.78.8-2.07 0-2.86zM5.41 20L4 18.59l7.72-7.72 1.47 1.35L5.41 20z\"/>\n",
              "  </svg>\n",
              "      </button>\n",
              "      \n",
              "  <style>\n",
              "    .colab-df-container {\n",
              "      display:flex;\n",
              "      flex-wrap:wrap;\n",
              "      gap: 12px;\n",
              "    }\n",
              "\n",
              "    .colab-df-convert {\n",
              "      background-color: #E8F0FE;\n",
              "      border: none;\n",
              "      border-radius: 50%;\n",
              "      cursor: pointer;\n",
              "      display: none;\n",
              "      fill: #1967D2;\n",
              "      height: 32px;\n",
              "      padding: 0 0 0 0;\n",
              "      width: 32px;\n",
              "    }\n",
              "\n",
              "    .colab-df-convert:hover {\n",
              "      background-color: #E2EBFA;\n",
              "      box-shadow: 0px 1px 2px rgba(60, 64, 67, 0.3), 0px 1px 3px 1px rgba(60, 64, 67, 0.15);\n",
              "      fill: #174EA6;\n",
              "    }\n",
              "\n",
              "    [theme=dark] .colab-df-convert {\n",
              "      background-color: #3B4455;\n",
              "      fill: #D2E3FC;\n",
              "    }\n",
              "\n",
              "    [theme=dark] .colab-df-convert:hover {\n",
              "      background-color: #434B5C;\n",
              "      box-shadow: 0px 1px 3px 1px rgba(0, 0, 0, 0.15);\n",
              "      filter: drop-shadow(0px 1px 2px rgba(0, 0, 0, 0.3));\n",
              "      fill: #FFFFFF;\n",
              "    }\n",
              "  </style>\n",
              "\n",
              "      <script>\n",
              "        const buttonEl =\n",
              "          document.querySelector('#df-2ae9ba12-1de6-454a-8734-107908ee4ed5 button.colab-df-convert');\n",
              "        buttonEl.style.display =\n",
              "          google.colab.kernel.accessAllowed ? 'block' : 'none';\n",
              "\n",
              "        async function convertToInteractive(key) {\n",
              "          const element = document.querySelector('#df-2ae9ba12-1de6-454a-8734-107908ee4ed5');\n",
              "          const dataTable =\n",
              "            await google.colab.kernel.invokeFunction('convertToInteractive',\n",
              "                                                     [key], {});\n",
              "          if (!dataTable) return;\n",
              "\n",
              "          const docLinkHtml = 'Like what you see? Visit the ' +\n",
              "            '<a target=\"_blank\" href=https://colab.research.google.com/notebooks/data_table.ipynb>data table notebook</a>'\n",
              "            + ' to learn more about interactive tables.';\n",
              "          element.innerHTML = '';\n",
              "          dataTable['output_type'] = 'display_data';\n",
              "          await google.colab.output.renderOutput(dataTable, element);\n",
              "          const docLink = document.createElement('div');\n",
              "          docLink.innerHTML = docLinkHtml;\n",
              "          element.appendChild(docLink);\n",
              "        }\n",
              "      </script>\n",
              "    </div>\n",
              "  </div>\n",
              "  "
            ]
          },
          "metadata": {},
          "execution_count": 17
        }
      ]
    },
    {
      "cell_type": "markdown",
      "source": [
        "**# Preparing the data for balancing**"
      ],
      "metadata": {
        "id": "xaDa4dYJcqZ4"
      }
    },
    {
      "cell_type": "code",
      "source": [
        "churned_user=train_data[train_data['is_churn']==1]\n",
        "not_churned_user=train_data[train_data['is_churn']==0]\n",
        "not_churned_user_sampled=not_churned_user.sample(frac=0.7)\n",
        "new_sampled_data=not_churned_user_sampled.append(churned_user,ignore_index=True)\n",
        "new_sampled_data.head()"
      ],
      "metadata": {
        "colab": {
          "base_uri": "https://localhost:8080/",
          "height": 300
        },
        "id": "fhTnEQuWRHqH",
        "outputId": "b27a5769-1924-4284-ac77-01c2c6abdd94"
      },
      "execution_count": null,
      "outputs": [
        {
          "output_type": "execute_result",
          "data": {
            "text/plain": [
              "                                           msno  is_churn    bd  \\\n",
              "0  pnXrxGX2UIU9Gje/Hc4KFybz5jyAFbhx7cQMniYsT1w=         0  19.0   \n",
              "1  VOXaUOmpVzV6MDq8ANvLVnFuEHhA+JLie8VuxJ2pXK0=         0  41.0   \n",
              "2  vGwutoO/7arh4nVlz2UR7E4++YevdHg8DJWLO5oG+O4=         0  22.0   \n",
              "3  auYAH0UBiFl+tfMkVOfrjTywDkUgLVsx6rzzX1gzO0I=         0  37.0   \n",
              "4  2eqfnvREFBaMUdmnwcGdqLyNPXwzGp6a3RbvsEoJCwA=         0  28.0   \n",
              "\n",
              "   registered_via  registration_init_time  city_feature  \\\n",
              "0             3.0              20150721.0           0.0   \n",
              "1             9.0              20090322.0           0.0   \n",
              "2             7.0              20160328.0           0.0   \n",
              "3             9.0              20040702.0           0.0   \n",
              "4             9.0              20040731.0           0.0   \n",
              "\n",
              "   registration_method_f  payment_method_id  payment_plan_days  \\\n",
              "0                    0.0               39.0               30.0   \n",
              "1                    1.0               39.0               30.0   \n",
              "2                    1.0               41.0               30.0   \n",
              "3                    1.0               33.0               30.0   \n",
              "4                    1.0               39.0               30.0   \n",
              "\n",
              "   plan_list_price  ...  change_in_plan        date  num_25  num_50  num_75  \\\n",
              "0            149.0  ...             1.0         0.0     0.0     0.0     0.0   \n",
              "1            149.0  ...             1.0  20170316.0     7.0     0.0     0.0   \n",
              "2            149.0  ...             1.0         0.0     0.0     0.0     0.0   \n",
              "3            149.0  ...             1.0  20170315.0     2.0     3.0     0.0   \n",
              "4            149.0  ...             1.0  20170331.0     0.0     0.0     0.0   \n",
              "\n",
              "   num_985  num_100  num_unq   total_secs  total_secs_mean  \n",
              "0      0.0      0.0      0.0     0.000000         0.000000  \n",
              "1      0.0      2.0      4.0   527.987000       527.987000  \n",
              "2      0.0      0.0      0.0     0.000000         0.000000  \n",
              "3      1.0     22.0     42.0  5850.359863      5850.359863  \n",
              "4      1.0      1.0      2.0   497.769989       497.769989  \n",
              "\n",
              "[5 rows x 31 columns]"
            ],
            "text/html": [
              "\n",
              "  <div id=\"df-7636fda3-60ad-48c4-9e36-4e839bb4e30d\">\n",
              "    <div class=\"colab-df-container\">\n",
              "      <div>\n",
              "<style scoped>\n",
              "    .dataframe tbody tr th:only-of-type {\n",
              "        vertical-align: middle;\n",
              "    }\n",
              "\n",
              "    .dataframe tbody tr th {\n",
              "        vertical-align: top;\n",
              "    }\n",
              "\n",
              "    .dataframe thead th {\n",
              "        text-align: right;\n",
              "    }\n",
              "</style>\n",
              "<table border=\"1\" class=\"dataframe\">\n",
              "  <thead>\n",
              "    <tr style=\"text-align: right;\">\n",
              "      <th></th>\n",
              "      <th>msno</th>\n",
              "      <th>is_churn</th>\n",
              "      <th>bd</th>\n",
              "      <th>registered_via</th>\n",
              "      <th>registration_init_time</th>\n",
              "      <th>city_feature</th>\n",
              "      <th>registration_method_f</th>\n",
              "      <th>payment_method_id</th>\n",
              "      <th>payment_plan_days</th>\n",
              "      <th>plan_list_price</th>\n",
              "      <th>...</th>\n",
              "      <th>change_in_plan</th>\n",
              "      <th>date</th>\n",
              "      <th>num_25</th>\n",
              "      <th>num_50</th>\n",
              "      <th>num_75</th>\n",
              "      <th>num_985</th>\n",
              "      <th>num_100</th>\n",
              "      <th>num_unq</th>\n",
              "      <th>total_secs</th>\n",
              "      <th>total_secs_mean</th>\n",
              "    </tr>\n",
              "  </thead>\n",
              "  <tbody>\n",
              "    <tr>\n",
              "      <th>0</th>\n",
              "      <td>pnXrxGX2UIU9Gje/Hc4KFybz5jyAFbhx7cQMniYsT1w=</td>\n",
              "      <td>0</td>\n",
              "      <td>19.0</td>\n",
              "      <td>3.0</td>\n",
              "      <td>20150721.0</td>\n",
              "      <td>0.0</td>\n",
              "      <td>0.0</td>\n",
              "      <td>39.0</td>\n",
              "      <td>30.0</td>\n",
              "      <td>149.0</td>\n",
              "      <td>...</td>\n",
              "      <td>1.0</td>\n",
              "      <td>0.0</td>\n",
              "      <td>0.0</td>\n",
              "      <td>0.0</td>\n",
              "      <td>0.0</td>\n",
              "      <td>0.0</td>\n",
              "      <td>0.0</td>\n",
              "      <td>0.0</td>\n",
              "      <td>0.000000</td>\n",
              "      <td>0.000000</td>\n",
              "    </tr>\n",
              "    <tr>\n",
              "      <th>1</th>\n",
              "      <td>VOXaUOmpVzV6MDq8ANvLVnFuEHhA+JLie8VuxJ2pXK0=</td>\n",
              "      <td>0</td>\n",
              "      <td>41.0</td>\n",
              "      <td>9.0</td>\n",
              "      <td>20090322.0</td>\n",
              "      <td>0.0</td>\n",
              "      <td>1.0</td>\n",
              "      <td>39.0</td>\n",
              "      <td>30.0</td>\n",
              "      <td>149.0</td>\n",
              "      <td>...</td>\n",
              "      <td>1.0</td>\n",
              "      <td>20170316.0</td>\n",
              "      <td>7.0</td>\n",
              "      <td>0.0</td>\n",
              "      <td>0.0</td>\n",
              "      <td>0.0</td>\n",
              "      <td>2.0</td>\n",
              "      <td>4.0</td>\n",
              "      <td>527.987000</td>\n",
              "      <td>527.987000</td>\n",
              "    </tr>\n",
              "    <tr>\n",
              "      <th>2</th>\n",
              "      <td>vGwutoO/7arh4nVlz2UR7E4++YevdHg8DJWLO5oG+O4=</td>\n",
              "      <td>0</td>\n",
              "      <td>22.0</td>\n",
              "      <td>7.0</td>\n",
              "      <td>20160328.0</td>\n",
              "      <td>0.0</td>\n",
              "      <td>1.0</td>\n",
              "      <td>41.0</td>\n",
              "      <td>30.0</td>\n",
              "      <td>149.0</td>\n",
              "      <td>...</td>\n",
              "      <td>1.0</td>\n",
              "      <td>0.0</td>\n",
              "      <td>0.0</td>\n",
              "      <td>0.0</td>\n",
              "      <td>0.0</td>\n",
              "      <td>0.0</td>\n",
              "      <td>0.0</td>\n",
              "      <td>0.0</td>\n",
              "      <td>0.000000</td>\n",
              "      <td>0.000000</td>\n",
              "    </tr>\n",
              "    <tr>\n",
              "      <th>3</th>\n",
              "      <td>auYAH0UBiFl+tfMkVOfrjTywDkUgLVsx6rzzX1gzO0I=</td>\n",
              "      <td>0</td>\n",
              "      <td>37.0</td>\n",
              "      <td>9.0</td>\n",
              "      <td>20040702.0</td>\n",
              "      <td>0.0</td>\n",
              "      <td>1.0</td>\n",
              "      <td>33.0</td>\n",
              "      <td>30.0</td>\n",
              "      <td>149.0</td>\n",
              "      <td>...</td>\n",
              "      <td>1.0</td>\n",
              "      <td>20170315.0</td>\n",
              "      <td>2.0</td>\n",
              "      <td>3.0</td>\n",
              "      <td>0.0</td>\n",
              "      <td>1.0</td>\n",
              "      <td>22.0</td>\n",
              "      <td>42.0</td>\n",
              "      <td>5850.359863</td>\n",
              "      <td>5850.359863</td>\n",
              "    </tr>\n",
              "    <tr>\n",
              "      <th>4</th>\n",
              "      <td>2eqfnvREFBaMUdmnwcGdqLyNPXwzGp6a3RbvsEoJCwA=</td>\n",
              "      <td>0</td>\n",
              "      <td>28.0</td>\n",
              "      <td>9.0</td>\n",
              "      <td>20040731.0</td>\n",
              "      <td>0.0</td>\n",
              "      <td>1.0</td>\n",
              "      <td>39.0</td>\n",
              "      <td>30.0</td>\n",
              "      <td>149.0</td>\n",
              "      <td>...</td>\n",
              "      <td>1.0</td>\n",
              "      <td>20170331.0</td>\n",
              "      <td>0.0</td>\n",
              "      <td>0.0</td>\n",
              "      <td>0.0</td>\n",
              "      <td>1.0</td>\n",
              "      <td>1.0</td>\n",
              "      <td>2.0</td>\n",
              "      <td>497.769989</td>\n",
              "      <td>497.769989</td>\n",
              "    </tr>\n",
              "  </tbody>\n",
              "</table>\n",
              "<p>5 rows × 31 columns</p>\n",
              "</div>\n",
              "      <button class=\"colab-df-convert\" onclick=\"convertToInteractive('df-7636fda3-60ad-48c4-9e36-4e839bb4e30d')\"\n",
              "              title=\"Convert this dataframe to an interactive table.\"\n",
              "              style=\"display:none;\">\n",
              "        \n",
              "  <svg xmlns=\"http://www.w3.org/2000/svg\" height=\"24px\"viewBox=\"0 0 24 24\"\n",
              "       width=\"24px\">\n",
              "    <path d=\"M0 0h24v24H0V0z\" fill=\"none\"/>\n",
              "    <path d=\"M18.56 5.44l.94 2.06.94-2.06 2.06-.94-2.06-.94-.94-2.06-.94 2.06-2.06.94zm-11 1L8.5 8.5l.94-2.06 2.06-.94-2.06-.94L8.5 2.5l-.94 2.06-2.06.94zm10 10l.94 2.06.94-2.06 2.06-.94-2.06-.94-.94-2.06-.94 2.06-2.06.94z\"/><path d=\"M17.41 7.96l-1.37-1.37c-.4-.4-.92-.59-1.43-.59-.52 0-1.04.2-1.43.59L10.3 9.45l-7.72 7.72c-.78.78-.78 2.05 0 2.83L4 21.41c.39.39.9.59 1.41.59.51 0 1.02-.2 1.41-.59l7.78-7.78 2.81-2.81c.8-.78.8-2.07 0-2.86zM5.41 20L4 18.59l7.72-7.72 1.47 1.35L5.41 20z\"/>\n",
              "  </svg>\n",
              "      </button>\n",
              "      \n",
              "  <style>\n",
              "    .colab-df-container {\n",
              "      display:flex;\n",
              "      flex-wrap:wrap;\n",
              "      gap: 12px;\n",
              "    }\n",
              "\n",
              "    .colab-df-convert {\n",
              "      background-color: #E8F0FE;\n",
              "      border: none;\n",
              "      border-radius: 50%;\n",
              "      cursor: pointer;\n",
              "      display: none;\n",
              "      fill: #1967D2;\n",
              "      height: 32px;\n",
              "      padding: 0 0 0 0;\n",
              "      width: 32px;\n",
              "    }\n",
              "\n",
              "    .colab-df-convert:hover {\n",
              "      background-color: #E2EBFA;\n",
              "      box-shadow: 0px 1px 2px rgba(60, 64, 67, 0.3), 0px 1px 3px 1px rgba(60, 64, 67, 0.15);\n",
              "      fill: #174EA6;\n",
              "    }\n",
              "\n",
              "    [theme=dark] .colab-df-convert {\n",
              "      background-color: #3B4455;\n",
              "      fill: #D2E3FC;\n",
              "    }\n",
              "\n",
              "    [theme=dark] .colab-df-convert:hover {\n",
              "      background-color: #434B5C;\n",
              "      box-shadow: 0px 1px 3px 1px rgba(0, 0, 0, 0.15);\n",
              "      filter: drop-shadow(0px 1px 2px rgba(0, 0, 0, 0.3));\n",
              "      fill: #FFFFFF;\n",
              "    }\n",
              "  </style>\n",
              "\n",
              "      <script>\n",
              "        const buttonEl =\n",
              "          document.querySelector('#df-7636fda3-60ad-48c4-9e36-4e839bb4e30d button.colab-df-convert');\n",
              "        buttonEl.style.display =\n",
              "          google.colab.kernel.accessAllowed ? 'block' : 'none';\n",
              "\n",
              "        async function convertToInteractive(key) {\n",
              "          const element = document.querySelector('#df-7636fda3-60ad-48c4-9e36-4e839bb4e30d');\n",
              "          const dataTable =\n",
              "            await google.colab.kernel.invokeFunction('convertToInteractive',\n",
              "                                                     [key], {});\n",
              "          if (!dataTable) return;\n",
              "\n",
              "          const docLinkHtml = 'Like what you see? Visit the ' +\n",
              "            '<a target=\"_blank\" href=https://colab.research.google.com/notebooks/data_table.ipynb>data table notebook</a>'\n",
              "            + ' to learn more about interactive tables.';\n",
              "          element.innerHTML = '';\n",
              "          dataTable['output_type'] = 'display_data';\n",
              "          await google.colab.output.renderOutput(dataTable, element);\n",
              "          const docLink = document.createElement('div');\n",
              "          docLink.innerHTML = docLinkHtml;\n",
              "          element.appendChild(docLink);\n",
              "        }\n",
              "      </script>\n",
              "    </div>\n",
              "  </div>\n",
              "  "
            ]
          },
          "metadata": {},
          "execution_count": 18
        }
      ]
    },
    {
      "cell_type": "code",
      "source": [
        "new_sampled_data.shape"
      ],
      "metadata": {
        "colab": {
          "base_uri": "https://localhost:8080/"
        },
        "id": "hzXeRdUGRLbe",
        "outputId": "b8aeebeb-5457-475a-9842-e2ea60059a35"
      },
      "execution_count": null,
      "outputs": [
        {
          "output_type": "execute_result",
          "data": {
            "text/plain": [
              "(705871, 31)"
            ]
          },
          "metadata": {},
          "execution_count": 19
        }
      ]
    },
    {
      "cell_type": "code",
      "source": [
        "X_train=new_sampled_data[train_features]\n",
        "y_train=new_sampled_data['is_churn']"
      ],
      "metadata": {
        "id": "QlztBCYvRMn2"
      },
      "execution_count": null,
      "outputs": []
    },
    {
      "cell_type": "code",
      "source": [
        "import pandas as pd\n",
        "import numpy as np\n",
        "import os\n",
        "import seaborn as sns\n",
        "import warnings\n",
        "warnings.filterwarnings(\"ignore\")\n",
        "from imblearn.over_sampling import SMOTE\n",
        "from sklearn.calibration import CalibratedClassifierCV\n",
        "sns.set()\n",
        "from matplotlib.pyplot import figure"
      ],
      "metadata": {
        "id": "tBkGz5s6RPfN"
      },
      "execution_count": null,
      "outputs": []
    },
    {
      "cell_type": "markdown",
      "source": [
        "**# Balancing data Using SMOTE**"
      ],
      "metadata": {
        "id": "qsJE00mxdJQe"
      }
    },
    {
      "cell_type": "code",
      "source": [
        "#using smote to balance the imbalance in the dataset\n",
        "smote=SMOTE(random_state=110,n_jobs=-1)\n",
        "X_bal,y_bal=smote.fit_resample(X_train,y_train)"
      ],
      "metadata": {
        "id": "jJ--jIdJRSxm"
      },
      "execution_count": null,
      "outputs": []
    },
    {
      "cell_type": "code",
      "source": [
        "impute=dict(X_bal.mean())\n",
        "import pickle\n",
        "output = open('impute.pkl', 'wb')\n",
        "pickle.dump(impute, output)\n",
        "output.close()\n",
        "from sklearn.preprocessing import StandardScaler\n",
        "sc=StandardScaler()\n",
        "sc.fit(X_bal)\n",
        "X_bal=sc.transform(X_bal)\n",
        "X_bal.shape"
      ],
      "metadata": {
        "colab": {
          "base_uri": "https://localhost:8080/"
        },
        "id": "FDNuGNn1SDMV",
        "outputId": "3f70205e-c02f-4715-ab48-6287f159b5fe"
      },
      "execution_count": null,
      "outputs": [
        {
          "output_type": "execute_result",
          "data": {
            "text/plain": [
              "(1237082, 29)"
            ]
          },
          "metadata": {},
          "execution_count": 23
        }
      ]
    },
    {
      "cell_type": "code",
      "source": [
        "with open(\"sc.pkl\", 'wb') as output:\n",
        "    pickle.dump(sc, output, pickle.HIGHEST_PROTOCOL)\n",
        "print(X_bal.shape,y_bal.shape)"
      ],
      "metadata": {
        "colab": {
          "base_uri": "https://localhost:8080/"
        },
        "id": "_qutn44VSGzk",
        "outputId": "4ac376ce-161a-4be9-e58f-3a5224a71993"
      },
      "execution_count": null,
      "outputs": [
        {
          "output_type": "stream",
          "name": "stdout",
          "text": [
            "(1237082, 29) (1237082,)\n"
          ]
        }
      ]
    },
    {
      "cell_type": "markdown",
      "source": [
        "**# loading test data**"
      ],
      "metadata": {
        "id": "Jejp-spKdSQN"
      }
    },
    {
      "cell_type": "code",
      "source": [
        "test_data=pd.read_csv('/content/drive/MyDrive/KKbox_data/sample_submission_v2.csv')\n",
        "test_data=pd.merge(test_data,combined,on='msno',how='left')"
      ],
      "metadata": {
        "id": "lJ69hcphSLQE"
      },
      "execution_count": null,
      "outputs": []
    },
    {
      "cell_type": "code",
      "source": [
        "test_data.fillna(impute,inplace=True)"
      ],
      "metadata": {
        "id": "OjQnDJ91SNGT"
      },
      "execution_count": null,
      "outputs": []
    },
    {
      "cell_type": "code",
      "source": [
        "test_data  = test_data.drop_duplicates('msno', keep='first', inplace=False)"
      ],
      "metadata": {
        "id": "FJe-mt4VSRd9"
      },
      "execution_count": null,
      "outputs": []
    },
    {
      "cell_type": "code",
      "source": [
        "X_test=test_data[train_features]\n",
        "X_test=sc.transform(X_test)"
      ],
      "metadata": {
        "id": "bLsK70TNST48"
      },
      "execution_count": null,
      "outputs": []
    },
    {
      "cell_type": "code",
      "source": [
        "print(X_bal.shape,X_test.shape)"
      ],
      "metadata": {
        "colab": {
          "base_uri": "https://localhost:8080/"
        },
        "id": "AaBO6awjSYEc",
        "outputId": "313b7ebb-a58d-4275-c760-3bd0a25faea2"
      },
      "execution_count": null,
      "outputs": [
        {
          "output_type": "stream",
          "name": "stdout",
          "text": [
            "(1237082, 29) (907471, 29)\n"
          ]
        }
      ]
    },
    {
      "cell_type": "markdown",
      "source": [
        "**# Splitting the data**"
      ],
      "metadata": {
        "id": "n6fQwXZhdYy9"
      }
    },
    {
      "cell_type": "code",
      "source": [
        "from sklearn.model_selection import train_test_split\n",
        "X_train,X_cv,y_train,y_cv = train_test_split(X_bal,y_bal,test_size=0.3,random_state=110,stratify=y_bal)"
      ],
      "metadata": {
        "id": "pTPyYj1oSa8T"
      },
      "execution_count": null,
      "outputs": []
    },
    {
      "cell_type": "code",
      "source": [
        "print(X_train.shape,X_cv.shape)"
      ],
      "metadata": {
        "colab": {
          "base_uri": "https://localhost:8080/"
        },
        "id": "RvMltZ5DSjh7",
        "outputId": "db71024d-bb46-4bc8-c75f-77dbfd28f2c6"
      },
      "execution_count": null,
      "outputs": [
        {
          "output_type": "stream",
          "name": "stdout",
          "text": [
            "(865957, 29) (371125, 29)\n"
          ]
        }
      ]
    },
    {
      "cell_type": "code",
      "source": [
        "from sklearn.metrics import confusion_matrix\n",
        "from sklearn.metrics import log_loss\n",
        "from sklearn.metrics import f1_score\n",
        "import seaborn as sns\n",
        "import matplotlib.pyplot as plt\n",
        "def result(y_pred,y_pred_proba,y_true,confusion=0,silent=0):\n",
        "    \"\"\"\n",
        "    Function require 3 inputs\n",
        "    predicted value\n",
        "    predicted probabilities\n",
        "    true labels\n",
        "    final 1 or 0 \n",
        "    if 1 confusion matrix will be printed\n",
        "    \"\"\"\n",
        "    loss=log_loss(y_true,y_pred_proba)\n",
        "    if silent==0:\n",
        "        print(\"log loss is \",loss)\n",
        "        print('F1 score is',f1_score(y_true,y_pred))\n",
        "    if confusion==1:\n",
        "        cf_matrix = confusion_matrix(y_true, y_pred)\n",
        "        sns.heatmap(cf_matrix, annot=True,fmt='d')\n",
        "        plt.show()\n",
        "    return loss\n",
        "\n",
        "def lowest(hyperparameter,loss_all):\n",
        "    \"\"\"\n",
        "    this function return the\n",
        "    best hyperparameter and lowest loss associated with it\n",
        "    \"\"\"\n",
        "    lowest_loss_index=np.argsort(loss_all)[0]\n",
        "    lowest_loss=loss_all[lowest_loss_index]\n",
        "    hyperparameter=hyperparameter[lowest_loss_index]\n",
        "    print( 'The best hyperparameter is ',hyperparameter,'and the lowest loss associaed with it ',lowest_loss)\n",
        "    return hyperparameter\n",
        "def plot_result(hyperparameter,loss_all):\n",
        "    figure(num=None, figsize=(10,5), dpi=80, facecolor='w', edgecolor='k')\n",
        "    sns.scatterplot(x=hyperparameter,y=loss_all)\n",
        "    plt.plot()"
      ],
      "metadata": {
        "id": "mmNGJZAISmwj"
      },
      "execution_count": null,
      "outputs": []
    },
    {
      "cell_type": "markdown",
      "source": [
        "# **Logistic regression with l1**"
      ],
      "metadata": {
        "id": "defSP52jd-y5"
      }
    },
    {
      "cell_type": "code",
      "source": [
        "sample_points_train=int(0.4*X_train.shape[0])\n",
        "sample_points_cv=int(0.4*X_cv.shape[0])\n",
        "\n",
        "from sklearn.linear_model import LogisticRegression\n",
        "feature_importance_lr=[]\n",
        "feature_importance_values_lr=[]\n",
        "reg=[]\n",
        "loss_all=[]\n",
        "\n",
        "\n",
        "#hyperparameter tuning\n",
        "\n",
        "for i in [10**i for i in range(-3,3)]:\n",
        "    model=LogisticRegression(C=i,n_jobs=-1,random_state=110,penalty='l1',solver='liblinear')\n",
        "    print(\"Model is training\")\n",
        "    model.fit(X_train[:sample_points_train],y_train[:sample_points_train])\n",
        "    print(\"Done\")\n",
        "    y_pred_proba=model.predict_proba(X_cv[:sample_points_cv])\n",
        "    y_pred=model.predict(X_cv[:sample_points_cv])\n",
        "    loss=result(y_pred,y_pred_proba,y_cv[:sample_points_cv])\n",
        "    reg.append(i)\n",
        "    loss_all.append(loss)\n",
        "hyperparameter=lowest(reg,loss_all)\n",
        "\n",
        "\n",
        "# training model with best hyperparameter\n",
        "\n",
        "print(\"----------------------------------------------------------------------------------------------\")\n",
        "print(\"Training model with best hyperparameter\")\n",
        "model=LogisticRegression(C=hyperparameter,n_jobs=-1,random_state=110,penalty='l1',solver='liblinear')\n",
        "print(\"Model is training\")\n",
        "model.fit(X_train,y_train)\n",
        "print(\"Done\")\n",
        "y_pred_proba=model.predict_proba(X_cv)\n",
        "y_pred=model.predict(X_cv)\n",
        "loss=result(y_pred,y_pred_proba,y_cv,confusion=1)\n",
        "print(\"----------------------------------------------------------------------------------------------\")"
      ],
      "metadata": {
        "colab": {
          "base_uri": "https://localhost:8080/",
          "height": 824
        },
        "id": "TYn2-jvyd8da",
        "outputId": "3f9e52b6-adda-4edb-a045-5f41178ee9ce"
      },
      "execution_count": null,
      "outputs": [
        {
          "output_type": "stream",
          "name": "stdout",
          "text": [
            "Model is training\n",
            "Done\n",
            "log loss is  0.33512849077200774\n",
            "F1 score is 0.8481155431335966\n",
            "Model is training\n",
            "Done\n",
            "log loss is  0.32892273221928137\n",
            "F1 score is 0.8540978981520666\n",
            "Model is training\n",
            "Done\n",
            "log loss is  0.3277699514067516\n",
            "F1 score is 0.8545145668708543\n",
            "Model is training\n",
            "Done\n",
            "log loss is  0.32696738992966945\n",
            "F1 score is 0.8546356729020707\n",
            "Model is training\n",
            "Done\n",
            "log loss is  0.3268674454617268\n",
            "F1 score is 0.8546841081446817\n",
            "Model is training\n",
            "Done\n",
            "log loss is  0.32679698257722506\n",
            "F1 score is 0.8546639884413434\n",
            "The best hyperparameter is  100 and the lowest loss associaed with it  0.32679698257722506\n",
            "----------------------------------------------------------------------------------------------\n",
            "Training model with best hyperparameter\n",
            "Model is training\n",
            "Done\n",
            "log loss is  0.3262687108457936\n",
            "F1 score is 0.8542288149251959\n"
          ]
        },
        {
          "output_type": "display_data",
          "data": {
            "text/plain": [
              "<Figure size 432x288 with 2 Axes>"
            ],
            "image/png": "[encoded data removed]"
          },
          "metadata": {}
        },
        {
          "output_type": "stream",
          "name": "stdout",
          "text": [
            "----------------------------------------------------------------------------------------------\n"
          ]
        }
      ]
    },
    {
      "cell_type": "markdown",
      "source": [
        "# **Logistic regression with L2**"
      ],
      "metadata": {
        "id": "-P1wrG-N1M5j"
      }
    },
    {
      "cell_type": "code",
      "source": [
        "sample_points_train=int(0.4*X_train.shape[0])\n",
        "sample_points_cv=int(0.4*X_cv.shape[0])\n",
        "\n",
        "from sklearn.linear_model import LogisticRegression\n",
        "feature_importance_lr=[]\n",
        "feature_importance_values_lr=[]\n",
        "reg=[]\n",
        "loss_all=[]\n",
        "\n",
        "\n",
        "#hyperparameter tuning\n",
        "\n",
        "for i in [10**i for i in range(-3,3)]:\n",
        "    model=LogisticRegression(C=i,n_jobs=-1,random_state=110)\n",
        "    print(\"Model is training\")\n",
        "    model.fit(X_train[:sample_points_train],y_train[:sample_points_train])\n",
        "    print(\"Done\")\n",
        "    y_pred_proba=model.predict_proba(X_cv[:sample_points_cv])\n",
        "    y_pred=model.predict(X_cv[:sample_points_cv])\n",
        "    loss=result(y_pred,y_pred_proba,y_cv[:sample_points_cv])\n",
        "    reg.append(i)\n",
        "    loss_all.append(loss)\n",
        "hyperparameter=lowest(reg,loss_all)\n",
        "\n",
        "\n",
        "# training model with best hyperparameter\n",
        "\n",
        "print(\"---------------------------------------------------------------------------\")\n",
        "print(\"Training model with best hyperparameter\")\n",
        "model=LogisticRegression(C=hyperparameter,n_jobs=-1,random_state=110)\n",
        "print(\"Model is training\")\n",
        "model.fit(X_train,y_train)\n",
        "print(\"Done\")\n",
        "y_pred_proba=model.predict_proba(X_cv)\n",
        "y_pred=model.predict(X_cv)\n",
        "loss=result(y_pred,y_pred_proba,y_cv,confusion=1)\n",
        "\n"
      ],
      "metadata": {
        "colab": {
          "base_uri": "https://localhost:8080/",
          "height": 806
        },
        "id": "g7JIuu7VTONj",
        "outputId": "51f12275-ee9d-469c-9760-246807953688"
      },
      "execution_count": null,
      "outputs": [
        {
          "output_type": "stream",
          "name": "stdout",
          "text": [
            "Model is training\n",
            "Done\n",
            "log loss is  0.33379494908522156\n",
            "F1 score is 0.8489587760305992\n",
            "Model is training\n",
            "Done\n",
            "log loss is  0.3308268206320705\n",
            "F1 score is 0.8527435926385909\n",
            "Model is training\n",
            "Done\n",
            "log loss is  0.330222027630256\n",
            "F1 score is 0.8536277558041977\n",
            "Model is training\n",
            "Done\n",
            "log loss is  0.33009616636851297\n",
            "F1 score is 0.8543846668780608\n",
            "Model is training\n",
            "Done\n",
            "log loss is  0.3298305199481093\n",
            "F1 score is 0.8537001522928536\n",
            "Model is training\n",
            "Done\n",
            "log loss is  0.32988761596392524\n",
            "F1 score is 0.8532050558627694\n",
            "The best hyperparameter is  10 and the lowest loss associaed with it  0.3298305199481093\n",
            "---------------------------------------------------------------------------\n",
            "Training model with best hyperparameter\n",
            "Model is training\n",
            "Done\n",
            "log loss is  0.3268573849501192\n",
            "F1 score is 0.8542112352428493\n"
          ]
        },
        {
          "output_type": "display_data",
          "data": {
            "text/plain": [
              "<Figure size 432x288 with 2 Axes>"
            ],
            "image/png": "[encoded data removed]"
          },
          "metadata": {}
        }
      ]
    },
    {
      "cell_type": "markdown",
      "source": [
        "# **Random Forest classifier**"
      ],
      "metadata": {
        "id": "cTEDP5xV1CXl"
      }
    },
    {
      "cell_type": "code",
      "source": [
        "from sklearn.ensemble import RandomForestClassifier\n",
        "feature_importance_rf=[]\n",
        "feature_importance_values_rf=[]\n",
        "parameter=[]\n",
        "loss_all=[]\n",
        "\n",
        "#hyperparameter tuning\n",
        "for i in [100,200,500]:\n",
        "    for j in [2,5,10,50]:\n",
        "        model=RandomForestClassifier(n_estimators=i,random_state=110,n_jobs=-1,min_samples_split=j)\n",
        "        print(\"Model is training\")\n",
        "        model.fit(X_train[:sample_points_train],y_train[:sample_points_train])\n",
        "        print(\"Done\")\n",
        "        y_pred_proba=model.predict_proba(X_cv[:sample_points_cv])\n",
        "        y_pred=model.predict(X_cv[:sample_points_cv])\n",
        "        loss=result(y_pred,y_pred_proba,y_cv[:sample_points_cv])\n",
        "        parameter.append((i,j))\n",
        "        loss_all.append(loss)"
      ],
      "metadata": {
        "colab": {
          "base_uri": "https://localhost:8080/"
        },
        "id": "s5YP2m12VzX7",
        "outputId": "d3d11742-332d-460c-819d-4e6d47d99ab2"
      },
      "execution_count": null,
      "outputs": [
        {
          "output_type": "stream",
          "name": "stdout",
          "text": [
            "Model is training\n",
            "Done\n",
            "log loss is  0.11030388046482834\n",
            "F1 score is 0.948684228740708\n",
            "Model is training\n",
            "Done\n",
            "log loss is  0.10964490500741578\n",
            "F1 score is 0.9485383678440925\n",
            "Model is training\n",
            "Done\n",
            "log loss is  0.1109882542992065\n",
            "F1 score is 0.9482426876704365\n",
            "Model is training\n",
            "Done\n",
            "log loss is  0.11393127906744042\n",
            "F1 score is 0.9471922081874905\n",
            "Model is training\n",
            "Done\n",
            "log loss is  0.10886782375100205\n",
            "F1 score is 0.9487539706157138\n",
            "Model is training\n",
            "Done\n",
            "log loss is  0.10919089986919596\n",
            "F1 score is 0.9485462018572081\n",
            "Model is training\n",
            "Done\n",
            "log loss is  0.11035429460351263\n",
            "F1 score is 0.9482615435721404\n",
            "Model is training\n",
            "Done\n",
            "log loss is  0.1135893823931315\n",
            "F1 score is 0.9471557652658816\n",
            "Model is training\n",
            "Done\n",
            "log loss is  0.10848537949769098\n",
            "F1 score is 0.9486409433126661\n",
            "Model is training\n",
            "Done\n",
            "log loss is  0.10892537166689331\n",
            "F1 score is 0.9485783089176604\n",
            "Model is training\n",
            "Done\n",
            "log loss is  0.10979475257899375\n",
            "F1 score is 0.9482622596852551\n",
            "Model is training\n",
            "Done\n",
            "log loss is  0.11354519461923597\n",
            "F1 score is 0.9472147660292776\n"
          ]
        }
      ]
    },
    {
      "cell_type": "code",
      "source": [
        "hyperparameter=lowest(parameter,loss_all)\n",
        "\n",
        "\n",
        "# training model with best hyperparameter\n",
        "\n",
        "print(\"---------------------------------------------------------------------------------------------\")\n",
        "print(\"Training model with best hyperparameter\")\n",
        "model=RandomForestClassifier(n_estimators=hyperparameter[0],n_jobs=-1,random_state=110,min_samples_split=hyperparameter[1])\n",
        "print(\"Model is training\")\n",
        "model.fit(X_train,y_train)\n",
        "print(\"Done\")\n",
        "y_pred_proba=model.predict_proba(X_cv)\n",
        "y_pred=model.predict(X_cv)\n",
        "loss=result(y_pred,y_pred_proba,y_cv,confusion=1)\n",
        "\n"
      ],
      "metadata": {
        "colab": {
          "base_uri": "https://localhost:8080/",
          "height": 391
        },
        "id": "ignNuvyUcWh2",
        "outputId": "0bee4b14-b67c-46b9-f30b-66c42f25f4dd"
      },
      "execution_count": null,
      "outputs": [
        {
          "output_type": "stream",
          "name": "stdout",
          "text": [
            "The best hyperparameter is  (500, 2) and the lowest loss associaed with it  0.10848537949769098\n",
            "---------------------------------------------------------------------------------------------\n",
            "Training model with best hyperparameter\n",
            "Model is training\n",
            "Done\n",
            "log loss is  0.10422030414729824\n",
            "F1 score is 0.950132603896194\n"
          ]
        },
        {
          "output_type": "display_data",
          "data": {
            "text/plain": [
              "<Figure size 432x288 with 2 Axes>"
            ],
            "image/png": "[encoded data removed]"
          },
          "metadata": {}
        }
      ]
    },
    {
      "cell_type": "markdown",
      "source": [
        "# **XGB Classifier**"
      ],
      "metadata": {
        "id": "IJ8x-WRLp0sA"
      }
    },
    {
      "cell_type": "code",
      "source": [
        "from xgboost import XGBClassifier\n",
        "hyp=[]\n",
        "feature_importance_xgb=[]\n",
        "feature_importance_values_xgb=[]\n",
        "loss_all=[]\n",
        "\n",
        "\n",
        "#hyperparameter tuning\n",
        "\n",
        "for i in [100,200,500,1000]:\n",
        "    for j in [0.5,0.6,0.8]:\n",
        "        model=XGBClassifier(n_estimators=i,verbosity=1,n_jobs=-1,scale_pos_weight=j,random_state=110)\n",
        "        print(\"Model is training\")\n",
        "        model.fit(X_train[:sample_points_train],y_train[:sample_points_train])\n",
        "        print(\"Done\")\n",
        "        y_pred_proba=model.predict_proba(X_cv[:sample_points_cv])\n",
        "        y_pred=model.predict(X_cv[:sample_points_cv])\n",
        "        loss=result(y_pred,y_pred_proba,y_cv[:sample_points_cv],silent=1)\n",
        "        hyp.append((i,j))\n",
        "        loss_all.append(loss)"
      ],
      "metadata": {
        "colab": {
          "base_uri": "https://localhost:8080/"
        },
        "id": "YMVqpKFVgZQe",
        "outputId": "df3ed257-96c0-443f-f65a-29f9b21721e8"
      },
      "execution_count": null,
      "outputs": [
        {
          "output_type": "stream",
          "name": "stdout",
          "text": [
            "Model is training\n",
            "Done\n",
            "Model is training\n",
            "Done\n",
            "Model is training\n",
            "Done\n",
            "Model is training\n",
            "Done\n",
            "Model is training\n",
            "Done\n",
            "Model is training\n",
            "Done\n",
            "Model is training\n",
            "Done\n",
            "Model is training\n",
            "Done\n",
            "Model is training\n",
            "Done\n",
            "Model is training\n",
            "Done\n",
            "Model is training\n",
            "Done\n",
            "Model is training\n",
            "Done\n"
          ]
        }
      ]
    },
    {
      "cell_type": "code",
      "source": [
        "# training model with best hyperparameter\n",
        "\n",
        "hyperparameter=lowest(hyp,loss_all)\n",
        "print(\"----------------------------------------------------------------------------------------------\")\n",
        "print(\"Training model with best hyperparameter\")\n",
        "model=XGBClassifier(n_estimators=hyperparameter[0],n_jobs=-1,random_state=110,scale_pos_weight=hyperparameter[1],verbosity=1)\n",
        "print(\"Model is training\")\n",
        "model.fit(X_train,y_train)\n",
        "print(\"Done\")\n",
        "y_pred_proba=model.predict_proba(X_cv)\n",
        "y_pred=model.predict(X_cv)\n",
        "loss=result(y_pred,y_pred_proba,y_cv,confusion=1)\n",
        "print(\"-----------------------------------------------------------------------------------------------\")\n",
        "\n"
      ],
      "metadata": {
        "colab": {
          "base_uri": "https://localhost:8080/",
          "height": 408
        },
        "id": "g4tOYl4gxQ2s",
        "outputId": "75252883-198b-422e-c3f8-30aedeea079d"
      },
      "execution_count": null,
      "outputs": [
        {
          "output_type": "stream",
          "name": "stdout",
          "text": [
            "The best hyperparameter is  (1000, 0.8) and the lowest loss associaed with it  0.11662084976149209\n",
            "----------------------------------------------------------------------------------------------\n",
            "Training model with best hyperparameter\n",
            "Model is training\n",
            "Done\n",
            "log loss is  0.11284224573004356\n",
            "F1 score is 0.944588247107521\n"
          ]
        },
        {
          "output_type": "display_data",
          "data": {
            "text/plain": [
              "<Figure size 432x288 with 2 Axes>"
            ],
            "image/png": "[encoded data removed]"
          },
          "metadata": {}
        },
        {
          "output_type": "stream",
          "name": "stdout",
          "text": [
            "-----------------------------------------------------------------------------------------------\n"
          ]
        }
      ]
    },
    {
      "cell_type": "markdown",
      "source": [
        "In the upcoming phase , we shall proceed with advanced modeling methods and adding more imporatnt features.\n"
      ],
      "metadata": {
        "id": "JL2WtlXe8jIn"
      }
    }
  ]
}